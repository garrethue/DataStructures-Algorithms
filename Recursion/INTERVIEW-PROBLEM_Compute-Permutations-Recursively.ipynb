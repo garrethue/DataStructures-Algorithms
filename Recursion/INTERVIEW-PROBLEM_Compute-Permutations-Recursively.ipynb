{
 "cells": [
  {
   "cell_type": "code",
   "execution_count": 46,
   "metadata": {},
   "outputs": [],
   "source": [
    "import random"
   ]
  },
  {
   "cell_type": "code",
   "execution_count": 85,
   "metadata": {},
   "outputs": [],
   "source": [
    "def permute(my_set):\n",
    "    '''\n",
    "    returns a random perm from a given set\n",
    "    '''\n",
    "    if len(my_set) == 1:\n",
    "        return my_set.pop()\n",
    "    else:\n",
    "        random_element = random.sample(my_set, 1)[0]\n",
    "        my_set.remove(random_element)\n",
    "        return random_element + permute(my_set)"
   ]
  },
  {
   "cell_type": "code",
   "execution_count": 86,
   "metadata": {},
   "outputs": [],
   "source": [
    "def list_of_perms(string):\n",
    "    #iterate through list of strings\n",
    "    #for each char in string, find the permutations of the rest of the string\n",
    "    #concat that to the current char\n",
    "    #append to the list\n",
    "    for char in string:\n",
    "        #get rest of string\n",
    "        result_str = string.replace(char, '') \n",
    "        set_str = set(result_str)\n",
    "        print(permute(set_str))\n",
    "    \n",
    "    pass"
   ]
  },
  {
   "cell_type": "code",
   "execution_count": null,
   "metadata": {},
   "outputs": [],
   "source": []
  },
  {
   "cell_type": "code",
   "execution_count": 81,
   "metadata": {},
   "outputs": [
    {
     "name": "stdout",
     "output_type": "stream",
     "text": [
      "{2, 3, 4, 5} 1\n"
     ]
    }
   ],
   "source": [
    "s = set([1,2,3,4,5])\n",
    "element = random.sample(s, 1)[0]\n",
    "s.remove(element)\n",
    "print(s, element)"
   ]
  },
  {
   "cell_type": "code",
   "execution_count": 90,
   "metadata": {},
   "outputs": [
    {
     "name": "stdout",
     "output_type": "stream",
     "text": [
      "['abc']\n"
     ]
    }
   ],
   "source": [
    "print(['a' + 'bc'])"
   ]
  },
  {
   "cell_type": "code",
   "execution_count": null,
   "metadata": {},
   "outputs": [],
   "source": []
  },
  {
   "cell_type": "code",
   "execution_count": 93,
   "metadata": {},
   "outputs": [],
   "source": [
    "# Solution\n",
    "\n",
    "def permute(s):\n",
    "    \n",
    "    #output \n",
    "    out = []\n",
    "    \n",
    "    if len(s) == 1:\n",
    "        out = [s]\n",
    "     \n",
    "    else:\n",
    "        \n",
    "        #for every letter in string\n",
    "        for index, letter in enumerate(s):\n",
    "            \n",
    "            #\n",
    "            print(index,letter)"
   ]
  },
  {
   "cell_type": "code",
   "execution_count": 94,
   "metadata": {},
   "outputs": [
    {
     "name": "stdout",
     "output_type": "stream",
     "text": [
      "0 h\n",
      "1 h\n",
      "2 i\n",
      "3 y\n",
      "4 a\n"
     ]
    }
   ],
   "source": [
    "permute('hhiya')"
   ]
  },
  {
   "cell_type": "code",
   "execution_count": null,
   "metadata": {},
   "outputs": [],
   "source": []
  }
 ],
 "metadata": {
  "kernelspec": {
   "display_name": "Python 3",
   "language": "python",
   "name": "python3"
  },
  "language_info": {
   "codemirror_mode": {
    "name": "ipython",
    "version": 3
   },
   "file_extension": ".py",
   "mimetype": "text/x-python",
   "name": "python",
   "nbconvert_exporter": "python",
   "pygments_lexer": "ipython3",
   "version": "3.8.5"
  }
 },
 "nbformat": 4,
 "nbformat_minor": 4
}
