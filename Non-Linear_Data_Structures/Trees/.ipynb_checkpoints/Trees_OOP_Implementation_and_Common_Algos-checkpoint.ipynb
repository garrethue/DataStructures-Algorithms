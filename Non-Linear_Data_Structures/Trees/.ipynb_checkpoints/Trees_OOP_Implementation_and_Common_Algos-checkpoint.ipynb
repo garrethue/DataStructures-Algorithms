{
 "cells": [
  {
   "cell_type": "code",
   "execution_count": 8,
   "metadata": {},
   "outputs": [],
   "source": [
    "class Stack:\n",
    "    \n",
    "    #NOTE: user-defined methods have a time complexity of O(1)\n",
    "    def __init__(self):\n",
    "        \"\"\"\n",
    "        creates a stack that is empty\n",
    "        it needs no parameters and returns an empty stack\n",
    "        \"\"\"\n",
    "        self.list = []\n",
    "    \n",
    "    def push(self, item):\n",
    "        \"\"\"\n",
    "        adds a new item to the top of the stack \n",
    "        it needs the item and returns nothing\n",
    "        \"\"\"\n",
    "        self.list.append(item)\n",
    "    \n",
    "    def pop(self):\n",
    "        \"\"\"\n",
    "        removes the top item from the stack. \n",
    "        it needs no params and returns the item. The stack is MODIFIED\n",
    "        \"\"\"\n",
    "        return self.list.pop()\n",
    "    \n",
    "    def peek(self):\n",
    "        \"\"\"\n",
    "        returns the top item from the stack but does not remove it\n",
    "        it needs no params and the stack is NOT MODIFIED\n",
    "        \"\"\"\n",
    "        return self.list[len(self.list) - 1]\n",
    "    \n",
    "    def is_empty(self):\n",
    "        \"\"\"\n",
    "        tests to see whether the stack is empty\n",
    "        it needs no params and returns a boolean value\n",
    "        \"\"\"\n",
    "        return len(self.list) == 0\n",
    "    \n",
    "    def size(self):\n",
    "        \"\"\"\n",
    "        returns the number of items on the stack\n",
    "        it needs no params and returns an integer\n",
    "        \"\"\"\n",
    "        return len(self.list)\n",
    "\n",
    "class BinaryTree:\n",
    "    \n",
    "    def __init__(self, root_obj):\n",
    "        self.key = root_obj\n",
    "        self.left_child = None\n",
    "        self.right_child = None\n",
    "        #left and right child will become references\n",
    "        #to other instances of the BinaryTree class\n",
    "    \n",
    "    def insert_left(self, new_node):\n",
    "        #if nothing, simply add\n",
    "        if self.left_child is None:\n",
    "            self.left_child = BinaryTree(new_node)\n",
    "        \n",
    "        #else, push the old left child down one level\n",
    "        #the new_child's left_child attribute becomes the old left_child\n",
    "        else:\n",
    "            new_child = BinaryTree(new_node)\n",
    "            new_child.left_child = self.left_child\n",
    "            self.left_child = new_child\n",
    "    \n",
    "    def insert_right(self, new_node):\n",
    "        #similar logic for insert right\n",
    "        if self.right_child is None:\n",
    "            self.right_child = BinaryTree(new_node)\n",
    "        else:\n",
    "            new_child = BinaryTree(new_node)\n",
    "            new_child.right_child = self.right_child\n",
    "            self.right_child = new_child\n",
    "    \n",
    "    def get_root_val(self):\n",
    "        return self.key\n",
    "    \n",
    "    def set_root_val(self, new_obj):\n",
    "        self.key = new_obj\n",
    "    \n",
    "    def get_left_child(self):\n",
    "        return self.left_child\n",
    "    \n",
    "    def get_right_child(self):\n",
    "        return self.right_child"
   ]
  },
  {
   "cell_type": "code",
   "execution_count": 9,
   "metadata": {},
   "outputs": [],
   "source": [
    "def build_parse_tree(fp_expr):\n",
    "    fp_list = fp_expr.split() #split string into list of char\n",
    "    p_stack = Stack() # keep track of where we are in tree\n",
    "    expr_tree = BinaryTree(\"\") #create tree with root node\n",
    "    p_stack.push(expr_tree) #push the tree to the stack\n",
    "    current_tree = expr_tree #init current_tree for traversal\n",
    "    \n",
    "    for token in fp_list:\n",
    "        if token == \"(\":\n",
    "            #if the current token is \"(\"\n",
    "            current_tree.insert_left(\"\") #add new node to left_child\n",
    "            p_stack.push(current_tree) #push current tree onto stack to keep track of where we are in the tree\n",
    "            current_tree = current_tree.left_child #descend to left child\n",
    "        elif token in [\"+\", \"-\", \"*\", \"/\"]:\n",
    "            #if token is an arithmetic operator\n",
    "            current_tree.key = token #set the token to the current_tree's key\n",
    "            current_tree.insert_right(\"\") #create right_child\n",
    "            p_stack.push(current_tree) #push so we know where we are\n",
    "            current_tree = current_tree.right_child #descend to the right child\n",
    "        elif token == \")\": #signals the end of an expression\n",
    "            #go back to parent of current_tree\n",
    "            current_tree = p_stack.pop()\n",
    "        elif token not in [\"+\", \"-\", \"*\", \"/\"]:\n",
    "            #if token is not arithmetic operator\n",
    "            #try to convert to an integer, else throw error\n",
    "            try:\n",
    "                current_tree.key = int(token)\n",
    "                current_tree = p_stack.pop()\n",
    "            except:\n",
    "                raise ValueError(\"{} not an integer\".format(token))\n",
    "    \n",
    "    return expr_tree"
   ]
  },
  {
   "cell_type": "code",
   "execution_count": 10,
   "metadata": {},
   "outputs": [],
   "source": [
    "pt = build_parse_tree(\"( ( 10 + 5 ) * 3 )\")"
   ]
  },
  {
   "cell_type": "code",
   "execution_count": 23,
   "metadata": {},
   "outputs": [],
   "source": [
    "#create recursive function to evaluate a parsed tree"
   ]
  },
  {
   "cell_type": "code",
   "execution_count": 28,
   "metadata": {},
   "outputs": [],
   "source": [
    "import operator\n",
    "def evaluate(parse_tree):\n",
    "    operators = {\n",
    "        \"+\": operator.add,\n",
    "        \"-\": operator.sub,\n",
    "        \"*\": operator.mul,\n",
    "        \"/\": operator.truediv\n",
    "    }\n",
    "    left_child = parse_tree.left_child\n",
    "    right_child = parse_tree.right_child\n",
    "    \n",
    "    #we are making the assumption here that either a subtree has TWO children or NO CHILDREN.\n",
    "    if left_child and right_child:\n",
    "        function = operators[parse_tree.key]\n",
    "        return function(evaluate(left_child), evaluate(right_child))\n",
    "    #if no children, we are at a leaf node (base case)\n",
    "    else:\n",
    "        return parse_tree.key"
   ]
  },
  {
   "cell_type": "code",
   "execution_count": 29,
   "metadata": {},
   "outputs": [
    {
     "name": "stdout",
     "output_type": "stream",
     "text": [
      "45\n"
     ]
    }
   ],
   "source": [
    "print(evaluate(pt))"
   ]
  },
  {
   "cell_type": "code",
   "execution_count": 3,
   "metadata": {},
   "outputs": [],
   "source": [
    "#Traversals\n",
    "def postorder(tree):\n",
    "    #base case: get to a leaf node\n",
    "    #recursive case: call postorder with params of a subproblem\n",
    "    #left, right, then root\n",
    "    if tree: #if there is no tree, then the parent is a leaf node! ie, if tree is None, we are at the base case\n",
    "        postorder(tree.get_left_child())\n",
    "        postorder(tree.get_right_child())\n",
    "        print(tree.get_root_val())"
   ]
  },
  {
   "cell_type": "code",
   "execution_count": 5,
   "metadata": {},
   "outputs": [],
   "source": [
    "def preorder(tree):\n",
    "    #similar logic to postorder, except we print the root first\n",
    "    #if tree is None, we are at the base case\n",
    "    if tree:\n",
    "        print(tree.get_root_val())\n",
    "        preorder(tree.get_left_child())\n",
    "        preorder(tree.get_right_child())"
   ]
  },
  {
   "cell_type": "code",
   "execution_count": 6,
   "metadata": {},
   "outputs": [],
   "source": [
    "def inorder(tree):\n",
    "    if tree:\n",
    "        inorder(tree.get_left_child())\n",
    "        print(tree.get_root_val())\n",
    "        inorder(tree.get_right_child())"
   ]
  },
  {
   "cell_type": "code",
   "execution_count": 45,
   "metadata": {},
   "outputs": [],
   "source": [
    "#WOOHOO got it. When coming up with algorithms, i find it makes it easier if I draw it out before coding\n",
    "def print_expression(tree):\n",
    "    result = \"\"\n",
    "    if tree:\n",
    "        if isinstance(tree.get_root_val(), int):\n",
    "            #print(tree.get_root_val(), 'made it')\n",
    "            result = result + print_expression(tree.get_left_child())\n",
    "            #print('current result', type(result))\n",
    "        else:\n",
    "            result = \"(\" + print_expression(tree.get_left_child())\n",
    "        \n",
    "        result = result + str(tree.get_root_val())\n",
    "        \n",
    "        if isinstance(tree.get_root_val(), int):\n",
    "            result = result + print_expression(tree.get_right_child())\n",
    "        else:\n",
    "            result = result + print_expression(tree.get_right_child()) + \")\"\n",
    "            \n",
    "    return result"
   ]
  },
  {
   "cell_type": "code",
   "execution_count": 46,
   "metadata": {},
   "outputs": [
    {
     "name": "stdout",
     "output_type": "stream",
     "text": [
      "((10+5)*3)\n"
     ]
    }
   ],
   "source": [
    "print(print_expression(pt))"
   ]
  },
  {
   "cell_type": "code",
   "execution_count": null,
   "metadata": {},
   "outputs": [],
   "source": []
  }
 ],
 "metadata": {
  "kernelspec": {
   "display_name": "Python 3",
   "language": "python",
   "name": "python3"
  },
  "language_info": {
   "codemirror_mode": {
    "name": "ipython",
    "version": 3
   },
   "file_extension": ".py",
   "mimetype": "text/x-python",
   "name": "python",
   "nbconvert_exporter": "python",
   "pygments_lexer": "ipython3",
   "version": "3.8.5"
  }
 },
 "nbformat": 4,
 "nbformat_minor": 4
}
