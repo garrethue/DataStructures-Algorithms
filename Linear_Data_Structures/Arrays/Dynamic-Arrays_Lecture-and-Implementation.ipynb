{
 "cells": [
  {
   "cell_type": "markdown",
   "metadata": {},
   "source": [
    "* Dynamic Arrays - Don't need to specify how large an array is beforehand --> can keep constantly adding to it\n",
    "* \n",
    "* A list instance often has GREATER CAPACITY than current length\n",
    "    * if elements keep getting APPENDED, EVENTUALLY this extra space runs out"
   ]
  },
  {
   "cell_type": "code",
   "execution_count": 10,
   "metadata": {},
   "outputs": [
    {
     "name": "stdout",
     "output_type": "stream",
     "text": [
      "length:   0; Size in bytes:   56\n",
      "length:   1; Size in bytes:   88\n",
      "length:   2; Size in bytes:   88\n",
      "length:   3; Size in bytes:   88\n",
      "length:   4; Size in bytes:   88\n",
      "length:   5; Size in bytes:  120\n",
      "length:   6; Size in bytes:  120\n",
      "length:   7; Size in bytes:  120\n",
      "length:   8; Size in bytes:  120\n",
      "length:   9; Size in bytes:  184\n",
      "length:  10; Size in bytes:  184\n",
      "length:  11; Size in bytes:  184\n",
      "length:  12; Size in bytes:  184\n",
      "length:  13; Size in bytes:  184\n",
      "length:  14; Size in bytes:  184\n",
      "length:  15; Size in bytes:  184\n",
      "length:  16; Size in bytes:  184\n",
      "length:  17; Size in bytes:  256\n",
      "length:  18; Size in bytes:  256\n",
      "length:  19; Size in bytes:  256\n",
      "length:  20; Size in bytes:  256\n",
      "length:  21; Size in bytes:  256\n",
      "length:  22; Size in bytes:  256\n",
      "length:  23; Size in bytes:  256\n",
      "length:  24; Size in bytes:  256\n",
      "length:  25; Size in bytes:  256\n",
      "length:  26; Size in bytes:  336\n",
      "length:  27; Size in bytes:  336\n",
      "length:  28; Size in bytes:  336\n",
      "length:  29; Size in bytes:  336\n",
      "length:  30; Size in bytes:  336\n",
      "length:  31; Size in bytes:  336\n",
      "length:  32; Size in bytes:  336\n",
      "length:  33; Size in bytes:  336\n",
      "length:  34; Size in bytes:  336\n",
      "length:  35; Size in bytes:  336\n",
      "length:  36; Size in bytes:  424\n",
      "length:  37; Size in bytes:  424\n",
      "length:  38; Size in bytes:  424\n",
      "length:  39; Size in bytes:  424\n",
      "length:  40; Size in bytes:  424\n",
      "length:  41; Size in bytes:  424\n",
      "length:  42; Size in bytes:  424\n",
      "length:  43; Size in bytes:  424\n",
      "length:  44; Size in bytes:  424\n",
      "length:  45; Size in bytes:  424\n",
      "length:  46; Size in bytes:  424\n",
      "length:  47; Size in bytes:  520\n",
      "length:  48; Size in bytes:  520\n",
      "length:  49; Size in bytes:  520\n"
     ]
    }
   ],
   "source": [
    "#Implementation\n",
    "import sys #allows us to use getSizeOf() which will let us know the actual size\n",
    "#in bytes that the computer is holding\n",
    "\n",
    "#set arbitrary n\n",
    "n = 10 #number of elements in arr\n",
    "\n",
    "data = []\n",
    "\n",
    "for i in range(50):\n",
    "    #number of elements\n",
    "    a = len(data)\n",
    "    \n",
    "    #actual size in bytes\n",
    "    b = sys.getsizeof(data)\n",
    "    \n",
    "    print('length: {0:3d}; Size in bytes: {1:4d}'.format(a,b))\n",
    "    \n",
    "    #increase length by ONE\n",
    "    data.append(n)"
   ]
  },
  {
   "cell_type": "code",
   "execution_count": null,
   "metadata": {},
   "outputs": [],
   "source": [
    "# notice that the size in bytes INCREASES IN CHUNKS\n",
    "# so, for the first element has 56 bytes\n",
    "# then the next 4 elements increases 88 bytes\n",
    "# so forth..\n",
    "\n",
    "# as we append data to the array,\n",
    "# python is grabbing more and more real estate in memory,\n",
    "# allows us to see that there is an underlying change in memory\n",
    "# as we add more elements to the array"
   ]
  },
  {
   "cell_type": "markdown",
   "metadata": {},
   "source": [
    "# Dynamic Array Implementation\n",
    "* the key is to provide a MEANS TO GROW THE ARRAY, 'A', that stores the elements of a list!\n",
    "* we can NOT actually grow the array, its CAPACITY IS FIXED\n",
    "* if an element is appended to a list at a time when the underlying array is FULL, we'll need to perform the FOLLOWING STEPS:\n",
    "* 1. Allocate a NEW ARRAY B with a LARGER CAPACITY (usually twice the size)\n",
    "* 2. set B[i] = A[i] for i=0 to n-1 (ie, copy all items in old array to new one... in actuality, the new array B points to these item OBJECTS that are somewhere in MEMORY!!) WHERE 'n' denotes current number of items\n",
    "* 3. Set A=B, THAT IS, we henceforth use B as the array supporting the list.. IE, change the identifier A to point to this new array B\n",
    "* 4. Insert the NEW element in the NEW array"
   ]
  },
  {
   "cell_type": "code",
   "execution_count": 11,
   "metadata": {},
   "outputs": [],
   "source": [
    "#implementation"
   ]
  },
  {
   "cell_type": "code",
   "execution_count": 1,
   "metadata": {},
   "outputs": [],
   "source": [
    "import ctypes\n",
    "\n",
    "class DynamicArray(object):\n",
    "    \n",
    "    def __init__(self):\n",
    "        #3 attributes\n",
    "        self.n = 0 #actual count of the elements, where we are in the array (ie, index/position)\n",
    "        self.capacity = 1\n",
    "        self.A = self.make_array(self.capacity) #make arr\n",
    "    \n",
    "    def __len__(self):\n",
    "        return self.n\n",
    "    \n",
    "    def __getitem__(self, k):\n",
    "        #return element at index 'k'\n",
    "        \n",
    "        if not 0 <= k < self.n:\n",
    "            # if the user specifies something outside the bounds of the array \n",
    "            # return an error\n",
    "            return IndexError('Outside the bounds of the array.')\n",
    "        \n",
    "        return self.A[k]\n",
    "    \n",
    "    def append(self, ele): #ele = element\n",
    "        \n",
    "        #what makes the array a dynamic array!\n",
    "        if self.n == self.capacity: \n",
    "            # if we have reached the capacity\n",
    "            # we need to double the capacity by creating a new Arr\n",
    "            self._resize(2*self.capacity) #2x if capacity is reached\n",
    "            \n",
    "        self.A[self.n] = ele\n",
    "        self.n += 1 #add one to the count to reflect this\n",
    "    \n",
    "    def _resize(self, new_cap): #new capacity\n",
    "        \n",
    "        B = self.make_array(new_cap)\n",
    "        \n",
    "        for k in range(self.n): #ref all existing values\n",
    "            B[k] = self.A[k]\n",
    "        \n",
    "        self.A = B #reference the new array\n",
    "        \n",
    "        self.capacity = new_cap #set new capacity\n",
    "        \n",
    "    def make_array(self, new_cap):\n",
    "        #returns new array w new capacity\n",
    "        \n",
    "        \n",
    "        #ctypes makes the RAW ARRAY\n",
    "        return (new_cap *  ctypes.py_object)()\n",
    "        "
   ]
  },
  {
   "cell_type": "code",
   "execution_count": 2,
   "metadata": {},
   "outputs": [],
   "source": [
    "arr = DynamicArray()"
   ]
  },
  {
   "cell_type": "code",
   "execution_count": 3,
   "metadata": {},
   "outputs": [],
   "source": [
    "arr.append(1)"
   ]
  },
  {
   "cell_type": "code",
   "execution_count": 4,
   "metadata": {},
   "outputs": [
    {
     "data": {
      "text/plain": [
       "1"
      ]
     },
     "execution_count": 4,
     "metadata": {},
     "output_type": "execute_result"
    }
   ],
   "source": [
    "len(arr)"
   ]
  },
  {
   "cell_type": "code",
   "execution_count": 5,
   "metadata": {},
   "outputs": [],
   "source": [
    "arr.append(2)"
   ]
  },
  {
   "cell_type": "code",
   "execution_count": 6,
   "metadata": {},
   "outputs": [
    {
     "data": {
      "text/plain": [
       "2"
      ]
     },
     "execution_count": 6,
     "metadata": {},
     "output_type": "execute_result"
    }
   ],
   "source": [
    "len(arr)"
   ]
  },
  {
   "cell_type": "code",
   "execution_count": 7,
   "metadata": {},
   "outputs": [
    {
     "data": {
      "text/plain": [
       "1"
      ]
     },
     "execution_count": 7,
     "metadata": {},
     "output_type": "execute_result"
    }
   ],
   "source": [
    "arr[0]"
   ]
  },
  {
   "cell_type": "code",
   "execution_count": 8,
   "metadata": {},
   "outputs": [
    {
     "data": {
      "text/plain": [
       "2"
      ]
     },
     "execution_count": 8,
     "metadata": {},
     "output_type": "execute_result"
    }
   ],
   "source": [
    "arr[1]"
   ]
  },
  {
   "cell_type": "code",
   "execution_count": 12,
   "metadata": {},
   "outputs": [
    {
     "name": "stdout",
     "output_type": "stream",
     "text": [
      "length:   0; Size in bytes:    1\n",
      "length:   1; Size in bytes:    1\n",
      "length:   2; Size in bytes:    2\n",
      "length:   3; Size in bytes:    4\n",
      "length:   4; Size in bytes:    4\n",
      "length:   5; Size in bytes:    8\n",
      "length:   6; Size in bytes:    8\n",
      "length:   7; Size in bytes:    8\n",
      "length:   8; Size in bytes:    8\n",
      "length:   9; Size in bytes:   16\n",
      "length:  10; Size in bytes:   16\n",
      "length:  11; Size in bytes:   16\n",
      "length:  12; Size in bytes:   16\n",
      "length:  13; Size in bytes:   16\n",
      "length:  14; Size in bytes:   16\n",
      "length:  15; Size in bytes:   16\n",
      "length:  16; Size in bytes:   16\n",
      "length:  17; Size in bytes:   32\n",
      "length:  18; Size in bytes:   32\n",
      "length:  19; Size in bytes:   32\n",
      "length:  20; Size in bytes:   32\n",
      "length:  21; Size in bytes:   32\n",
      "length:  22; Size in bytes:   32\n",
      "length:  23; Size in bytes:   32\n",
      "length:  24; Size in bytes:   32\n",
      "length:  25; Size in bytes:   32\n",
      "length:  26; Size in bytes:   32\n",
      "length:  27; Size in bytes:   32\n",
      "length:  28; Size in bytes:   32\n",
      "length:  29; Size in bytes:   32\n",
      "length:  30; Size in bytes:   32\n",
      "length:  31; Size in bytes:   32\n",
      "length:  32; Size in bytes:   32\n",
      "length:  33; Size in bytes:   64\n",
      "length:  34; Size in bytes:   64\n",
      "length:  35; Size in bytes:   64\n",
      "length:  36; Size in bytes:   64\n",
      "length:  37; Size in bytes:   64\n",
      "length:  38; Size in bytes:   64\n",
      "length:  39; Size in bytes:   64\n",
      "length:  40; Size in bytes:   64\n",
      "length:  41; Size in bytes:   64\n",
      "length:  42; Size in bytes:   64\n",
      "length:  43; Size in bytes:   64\n",
      "length:  44; Size in bytes:   64\n",
      "length:  45; Size in bytes:   64\n",
      "length:  46; Size in bytes:   64\n",
      "length:  47; Size in bytes:   64\n",
      "length:  48; Size in bytes:   64\n",
      "length:  49; Size in bytes:   64\n"
     ]
    }
   ],
   "source": [
    "#Implementation\n",
    "import sys #allows us to use getSizeOf() which will let us know the actual size\n",
    "#in bytes that the computer is holding\n",
    "\n",
    "#set arbitrary n\n",
    "n = 10 #number of elements in arr\n",
    "\n",
    "data = DynamicArray()\n",
    "\n",
    "for i in range(50):\n",
    "    #number of elements\n",
    "    a = len(data)\n",
    "    \n",
    "    #actual size in bytes\n",
    "    b = data.capacity\n",
    "    \n",
    "    print('length: {0:3d}; Size in bytes: {1:4d}'.format(a,b))\n",
    "    #print(list(data))\n",
    "    #increase length by ONE\n",
    "    data.append(n)\n",
    "# print(list(data))"
   ]
  },
  {
   "cell_type": "code",
   "execution_count": 13,
   "metadata": {},
   "outputs": [
    {
     "data": {
      "text/plain": [
       "50"
      ]
     },
     "execution_count": 13,
     "metadata": {},
     "output_type": "execute_result"
    }
   ],
   "source": [
    "len(data)"
   ]
  },
  {
   "cell_type": "markdown",
   "metadata": {},
   "source": [
    "# Amortization / Amortized Analysis\n",
    "* the strategy of replacing an array w a new, larger array MIGHT SEEM SLOW --> IE, a single append in the worst case would require O(n) time to perform\n",
    "* \n",
    "* our new array allows us to add 'n' new elements before the array must be replaced again\n",
    "* \n",
    "* using an ALGORITHMIC DESIGN PATTERN called AMORTIZATION, we can SHOW that PERFORMING a SEQUENCE of SUCH APPEND OPERATIONS on a dynamic array is actually EFFICIENT\n"
   ]
  },
  {
   "cell_type": "code",
   "execution_count": null,
   "metadata": {},
   "outputs": [],
   "source": []
  }
 ],
 "metadata": {
  "kernelspec": {
   "display_name": "Python 3",
   "language": "python",
   "name": "python3"
  },
  "language_info": {
   "codemirror_mode": {
    "name": "ipython",
    "version": 3
   },
   "file_extension": ".py",
   "mimetype": "text/x-python",
   "name": "python",
   "nbconvert_exporter": "python",
   "pygments_lexer": "ipython3",
   "version": "3.8.5"
  }
 },
 "nbformat": 4,
 "nbformat_minor": 4
}
