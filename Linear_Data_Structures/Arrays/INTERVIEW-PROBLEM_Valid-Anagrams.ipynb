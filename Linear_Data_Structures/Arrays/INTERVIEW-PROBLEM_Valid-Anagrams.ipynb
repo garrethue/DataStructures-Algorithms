{
 "cells": [
  {
   "cell_type": "code",
   "execution_count": 95,
   "metadata": {},
   "outputs": [],
   "source": [
    "def construct_hash_table(string, hash_table):\n",
    "    for character in string:\n",
    "        if character not in hash_table:\n",
    "            hash_table[character] = 1\n",
    "        else:\n",
    "            hash_table[character] += 1\n",
    "            \n",
    "def check_hash_table_equality(hash_table_1, hash_table_2):\n",
    "    for key,value in hash_table_1.items():\n",
    "        if key in hash_table_2:\n",
    "            if value == hash_table_2[key]:\n",
    "                continue\n",
    "        return False\n",
    "    return True\n",
    "\n",
    "def check_anagram(str1, str2):\n",
    "    #first remove whitespace and lowercase everything\n",
    "    str1 = str1.replace(\" \", \"\").lower()\n",
    "    str2 = str2.replace(\" \", \"\").lower()\n",
    "    \n",
    "    #need to AT LEAST have the same number of letters\n",
    "    if len(str1) != len(str2):\n",
    "        return False\n",
    "    \n",
    "    #initialize our hash tables\n",
    "    ht_1 = {}\n",
    "    ht_2 = {}\n",
    "    \n",
    "    construct_hash_table(str1, ht_1)\n",
    "    construct_hash_table(str2, ht_2)\n",
    "    \n",
    "    #compare the two hash tables\n",
    "    result_1 = check_hash_table_equality(ht_1, ht_2)\n",
    "    result_2 = check_hash_table_equality(ht_2, ht_1)\n",
    "    \n",
    "    \n",
    "    #if both true, then true\n",
    "    #else, false for all other combinations\n",
    "    return result_1 and result_2"
   ]
  },
  {
   "cell_type": "code",
   "execution_count": 83,
   "metadata": {},
   "outputs": [
    {
     "data": {
      "text/plain": [
       "True"
      ]
     },
     "execution_count": 83,
     "metadata": {},
     "output_type": "execute_result"
    }
   ],
   "source": [
    "check_anagram('Blah', 'blah')"
   ]
  },
  {
   "cell_type": "code",
   "execution_count": 84,
   "metadata": {},
   "outputs": [
    {
     "data": {
      "text/plain": [
       "True"
      ]
     },
     "execution_count": 84,
     "metadata": {},
     "output_type": "execute_result"
    }
   ],
   "source": [
    "check_anagram('blah ', 'blah')"
   ]
  },
  {
   "cell_type": "code",
   "execution_count": 85,
   "metadata": {},
   "outputs": [
    {
     "data": {
      "text/plain": [
       "False"
      ]
     },
     "execution_count": 85,
     "metadata": {},
     "output_type": "execute_result"
    }
   ],
   "source": [
    "check_anagram('PUBlic RelaTION', \"crap Built on Lies\" )"
   ]
  },
  {
   "cell_type": "code",
   "execution_count": 88,
   "metadata": {},
   "outputs": [
    {
     "data": {
      "text/plain": [
       "False"
      ]
     },
     "execution_count": 88,
     "metadata": {},
     "output_type": "execute_result"
    }
   ],
   "source": [
    "check_anagram('clint eastwood', \"oldds west action\")"
   ]
  },
  {
   "cell_type": "code",
   "execution_count": 89,
   "metadata": {},
   "outputs": [],
   "source": [
    "#Instructor solution:\n",
    "\n",
    "#less optimal\n",
    "def anagram2(s1, s2):\n",
    "    #remove whitespace and lower\n",
    "    s1 = s1.replace(' ', '').lower()\n",
    "    s2 = s2.replace(' ', '').lower()\n",
    "    \n",
    "    return sorted(s1) == sorted(s2)"
   ]
  },
  {
   "cell_type": "code",
   "execution_count": 90,
   "metadata": {},
   "outputs": [
    {
     "data": {
      "text/plain": [
       "False"
      ]
     },
     "execution_count": 90,
     "metadata": {},
     "output_type": "execute_result"
    }
   ],
   "source": [
    "anagram2('Blah', 'blah')\n",
    "anagram2('PUBlic RelaTION', \"crap Built on Lies\" )"
   ]
  },
  {
   "cell_type": "code",
   "execution_count": 91,
   "metadata": {},
   "outputs": [
    {
     "data": {
      "text/plain": [
       "True"
      ]
     },
     "execution_count": 91,
     "metadata": {},
     "output_type": "execute_result"
    }
   ],
   "source": [
    "anagram2('Blah', 'blah')\n"
   ]
  },
  {
   "cell_type": "code",
   "execution_count": 92,
   "metadata": {},
   "outputs": [
    {
     "data": {
      "text/plain": [
       "True"
      ]
     },
     "execution_count": 92,
     "metadata": {},
     "output_type": "execute_result"
    }
   ],
   "source": [
    "anagram2('PUBlic RelaTIONs', \"crap Built on Lies\" )"
   ]
  },
  {
   "cell_type": "code",
   "execution_count": 100,
   "metadata": {},
   "outputs": [
    {
     "data": {
      "text/plain": [
       "True"
      ]
     },
     "execution_count": 100,
     "metadata": {},
     "output_type": "execute_result"
    }
   ],
   "source": [
    "anagram2('clint eastwood', \"old west action\")"
   ]
  },
  {
   "cell_type": "code",
   "execution_count": 112,
   "metadata": {},
   "outputs": [],
   "source": [
    "# REFACTORED SOLUTION!\n",
    "def anagram(str1, str2):\n",
    "    #first remove whitespace and lowercase everything\n",
    "    str1 = str1.replace(\" \", \"\").lower()\n",
    "    str2 = str2.replace(\" \", \"\").lower()\n",
    "    \n",
    "    #need to AT LEAST have the same number of letters\n",
    "    if len(str1) != len(str2):\n",
    "        return False\n",
    "    \n",
    "    #initialize our hash tables\n",
    "    hash_table = {}\n",
    "    \n",
    "    for character in str1:\n",
    "        if character not in hash_table:\n",
    "            hash_table[character] = 1\n",
    "        else:\n",
    "            hash_table[character] += 1\n",
    "    \n",
    "    for character in str2:\n",
    "        if character not in hash_table:\n",
    "            hash_table[character] = 1\n",
    "        else:\n",
    "            hash_table[character] -= 1\n",
    "    \n",
    "    #print(hash_table)\n",
    "    for key,value in hash_table.items():\n",
    "        if hash_table[key] != 0:\n",
    "            return False\n",
    "    \n",
    "    return True"
   ]
  },
  {
   "cell_type": "code",
   "execution_count": 113,
   "metadata": {},
   "outputs": [
    {
     "data": {
      "text/plain": [
       "False"
      ]
     },
     "execution_count": 113,
     "metadata": {},
     "output_type": "execute_result"
    }
   ],
   "source": [
    "anagram('clintds eastwood', \"old west action\")"
   ]
  },
  {
   "cell_type": "code",
   "execution_count": 115,
   "metadata": {},
   "outputs": [
    {
     "name": "stdout",
     "output_type": "stream",
     "text": [
      "ALL TEST CASES PASSED\n"
     ]
    }
   ],
   "source": [
    "\"\"\"\n",
    "RUN THIS CELL TO TEST YOUR SOLUTION\n",
    "\"\"\"\n",
    "from nose.tools import assert_equal\n",
    "\n",
    "class AnagramTest(object):\n",
    "    \n",
    "    def test(self,sol):\n",
    "        assert_equal(sol('go go go','gggooo'),True)\n",
    "        assert_equal(sol('abc','cba'),True)\n",
    "        assert_equal(sol('hi man','hi     man'),True)\n",
    "        assert_equal(sol('aabbcc','aabbc'),False)\n",
    "        assert_equal(sol('123','1 2'),False)\n",
    "        print(\"ALL TEST CASES PASSED\")\n",
    "\n",
    "# Run Tests\n",
    "t = AnagramTest()\n",
    "t.test(anagram)"
   ]
  },
  {
   "cell_type": "code",
   "execution_count": null,
   "metadata": {},
   "outputs": [],
   "source": []
  }
 ],
 "metadata": {
  "kernelspec": {
   "display_name": "Python 3",
   "language": "python",
   "name": "python3"
  },
  "language_info": {
   "codemirror_mode": {
    "name": "ipython",
    "version": 3
   },
   "file_extension": ".py",
   "mimetype": "text/x-python",
   "name": "python",
   "nbconvert_exporter": "python",
   "pygments_lexer": "ipython3",
   "version": "3.8.5"
  }
 },
 "nbformat": 4,
 "nbformat_minor": 4
}
