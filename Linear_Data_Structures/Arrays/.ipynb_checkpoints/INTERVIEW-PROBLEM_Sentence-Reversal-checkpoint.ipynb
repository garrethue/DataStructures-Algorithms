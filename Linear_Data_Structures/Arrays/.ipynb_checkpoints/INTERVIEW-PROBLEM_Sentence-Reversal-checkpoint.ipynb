{
 "cells": [
  {
   "cell_type": "markdown",
   "metadata": {},
   "source": [
    "# Sentence Reversal\n",
    "## Problem\n",
    "Given a string of words, reverse all the words. For example:\n",
    "\n",
    "Given:\n",
    "\n",
    "'This is the best'\n",
    "\n",
    "Return:\n",
    "\n",
    "'best the is This'\n",
    "\n",
    "As part of this exercise you should remove all leading and trailing whitespace. So that inputs such as:\n",
    "\n",
    "'  space here'  and 'space here      '\n",
    "\n",
    "both become:\n",
    "\n",
    "'here space'"
   ]
  },
  {
   "cell_type": "code",
   "execution_count": 23,
   "metadata": {},
   "outputs": [],
   "source": [
    "'''\n",
    "Main Idea: \n",
    "\n",
    "Create a stack, loop over string, extract words from string by checking whitespace presence, once out of loop, pop all items off the stack and concat items to a string\n",
    "\n",
    "0. Create a stack and word_builder variable\n",
    "1. loop over the string, if the character is not whitespace, add to word_builder\n",
    "2. else, it is whitespace, check if the word_builder is not empty, if not empty, append word in word_builder to stack and re-initialie word_builder for next possible word\n",
    "3. once out of the loop, do one last check for the case that the string does not have trailing whitespace\n",
    "4. pop items from stack and build a return string \n",
    "'''\n",
    "\n",
    "def rev_word(string):\n",
    "    word_builder = \"\"\n",
    "    stack = []\n",
    "    \n",
    "    for char in string:\n",
    "        if char != \" \":\n",
    "            word_builder += char\n",
    "        else:\n",
    "            if word_builder != \"\": #accounts for instances where we have whitespace before character\n",
    "                stack.append(word_builder)\n",
    "                word_builder = \"\"\n",
    "                \n",
    "    #check for the case that the string does not have\n",
    "    #trailing whitespace\n",
    "    #if no trailing whitespace, word_builder will have another word\n",
    "    #that needs to go to the stack\n",
    "    if len(word_builder) > 0:\n",
    "        stack.append(word_builder)\n",
    "        word_builder = \"\"\n",
    "    \n",
    "    #while there are items on the stack\n",
    "    while stack != []:\n",
    "        popped_item = stack.pop()\n",
    "        \n",
    "        #check if stack is empty\n",
    "        if stack != []:\n",
    "            #if not empty, there is more to process, so add a space\n",
    "            word_builder += popped_item + \" \"\n",
    "        else:\n",
    "            #else, the popped item is the last word, so no space after\n",
    "            word_builder += popped_item\n",
    "    \n",
    "    return word_builder"
   ]
  },
  {
   "cell_type": "code",
   "execution_count": 24,
   "metadata": {},
   "outputs": [
    {
     "name": "stdout",
     "output_type": "stream",
     "text": [
      "before space\n"
     ]
    }
   ],
   "source": [
    "print(rev_word('    space before '))"
   ]
  },
  {
   "cell_type": "code",
   "execution_count": 25,
   "metadata": {},
   "outputs": [
    {
     "name": "stdout",
     "output_type": "stream",
     "text": [
      "ALL TEST CASES PASSED\n"
     ]
    }
   ],
   "source": [
    "\"\"\"\n",
    "RUN THIS CELL TO TEST YOUR SOLUTION\n",
    "\"\"\"\n",
    "\n",
    "from nose.tools import assert_equal\n",
    "\n",
    "class ReversalTest(object):\n",
    "    \n",
    "    def test(self,sol):\n",
    "        assert_equal(sol('    space before'),'before space')\n",
    "        assert_equal(sol('space after     '),'after space')\n",
    "        assert_equal(sol('   Hello John    how are you   '),'you are how John Hello')\n",
    "        assert_equal(sol('1'),'1')\n",
    "        print(\"ALL TEST CASES PASSED\")\n",
    "        \n",
    "# Run and test\n",
    "t = ReversalTest()\n",
    "t.test(rev_word)\n"
   ]
  }
 ],
 "metadata": {
  "kernelspec": {
   "display_name": "Python 3",
   "language": "python",
   "name": "python3"
  },
  "language_info": {
   "codemirror_mode": {
    "name": "ipython",
    "version": 3
   },
   "file_extension": ".py",
   "mimetype": "text/x-python",
   "name": "python",
   "nbconvert_exporter": "python",
   "pygments_lexer": "ipython3",
   "version": "3.8.5"
  }
 },
 "nbformat": 4,
 "nbformat_minor": 4
}
