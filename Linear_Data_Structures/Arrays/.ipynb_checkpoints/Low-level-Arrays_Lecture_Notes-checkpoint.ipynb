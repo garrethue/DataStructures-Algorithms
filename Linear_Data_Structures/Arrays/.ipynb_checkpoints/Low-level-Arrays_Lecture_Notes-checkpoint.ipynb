{
 "cells": [
  {
   "cell_type": "markdown",
   "metadata": {},
   "source": [
    "# Low-level computer architecture"
   ]
  },
  {
   "cell_type": "markdown",
   "metadata": {},
   "source": [
    "* Memory of a computer is stored in BITS (zeros or ones)\n",
    "\n",
    "* typical UNIT is a byte, which is a STRING of 8 bits\n",
    "   * a computer system will have a huge number of bytes IN memory and to keep track of what information is in what byte, the computer uses an abstraction known as a memory address\n",
    "   \n",
    "* Computers typically use a MEMORY ADDRESS\n",
    "\n",
    "* Each byte is associated with a UNIQUE MEMORY ADDRESS\n",
    "    * Byte @ #2144 versus Byte @ #2147\n",
    "    * memory address are typically coordinated with the physical layout of the memory system"
   ]
  },
  {
   "cell_type": "markdown",
   "metadata": {},
   "source": [
    "# Arrays\n",
    "* Computer hardware is designed, in theory, so that ANY BYTE of the MAIN MEMORY can be EFFICIENTLY accessed BASED UPON its memory address\n",
    "* Computer's main memory performs as random access memory (RAM)\n",
    "* JUST AS EASY to retrieve byte #8675309 as it is to retrieve byte #309\n",
    "* Individual byte of memory can be stored and retrieved in O(1) time"
   ]
  },
  {
   "cell_type": "markdown",
   "metadata": {},
   "source": [
    "* A Programming language KEEPS TRACK of the ASSOCIATION between an IDENTIFIER and the MEMORY ADDRESS\n",
    "\n",
    "* may want a video game to keep track of the top ten scores for that game\n",
    "\n",
    "* prefer to use a single name for the group\n",
    "\n",
    "* use index numbers to refer to high scorres in that group"
   ]
  },
  {
   "cell_type": "markdown",
   "metadata": {},
   "source": [
    "* a group of related variables can be stored one after another in a CONTIGUOUS PORTION of the computer's memory\n",
    "* we will DENOTE SUCH A REPRESENTATION as an ARRAY\n",
    "* a text string is stored as an ordered sequence of individual characters\n",
    "* Python internally represents each Unicode character with 16 bits (ie, 2 BYTES)"
   ]
  },
  {
   "cell_type": "markdown",
   "metadata": {},
   "source": [
    "* six-character string, such as 'SAMPLE' would be stored in 12 consecutive bytes of memory\n",
    "* IMPORTANT TO KNOW: Each cell of an array uses the SAME NUMBER OF BYTES\n",
    "    * this allows any ARBITRARY CELL IN THE ARRAY TO BE ACCESSED IN O(1) time"
   ]
  },
  {
   "cell_type": "markdown",
   "metadata": {},
   "source": [
    "# Referential Arrays\n",
    "* a single list instance may include multiple references to the same object as elements of the list\n",
    "* single object can be an element of two or more lists\n",
    "* when computing the slice of a list, the result is a NEW LIST INSTANCE\n",
    "* new list has references to the same elements that are in the original list"
   ]
  },
  {
   "cell_type": "code",
   "execution_count": 4,
   "metadata": {},
   "outputs": [],
   "source": [
    "primes = [2,3,5,7,11,13,17,19]\n",
    "temp = primes[3:6]"
   ]
  },
  {
   "cell_type": "code",
   "execution_count": 5,
   "metadata": {},
   "outputs": [],
   "source": [
    "temp[2] = 15"
   ]
  },
  {
   "cell_type": "code",
   "execution_count": 6,
   "metadata": {},
   "outputs": [
    {
     "name": "stdout",
     "output_type": "stream",
     "text": [
      "[2, 3, 5, 7, 11, 13, 17, 19]\n",
      "[7, 11, 15]\n"
     ]
    }
   ],
   "source": [
    "print(primes)\n",
    "print(temp)"
   ]
  },
  {
   "cell_type": "code",
   "execution_count": 7,
   "metadata": {},
   "outputs": [],
   "source": [
    "counters = [0]*8"
   ]
  },
  {
   "cell_type": "code",
   "execution_count": 8,
   "metadata": {},
   "outputs": [],
   "source": [
    "primes.extend([23,29,30])"
   ]
  },
  {
   "cell_type": "code",
   "execution_count": 9,
   "metadata": {},
   "outputs": [
    {
     "name": "stdout",
     "output_type": "stream",
     "text": [
      "[2, 3, 5, 7, 11, 13, 17, 19, 23, 29, 30]\n"
     ]
    }
   ],
   "source": [
    "print(primes)"
   ]
  },
  {
   "cell_type": "code",
   "execution_count": null,
   "metadata": {},
   "outputs": [],
   "source": []
  }
 ],
 "metadata": {
  "kernelspec": {
   "display_name": "Python 3",
   "language": "python",
   "name": "python3"
  },
  "language_info": {
   "codemirror_mode": {
    "name": "ipython",
    "version": 3
   },
   "file_extension": ".py",
   "mimetype": "text/x-python",
   "name": "python",
   "nbconvert_exporter": "python",
   "pygments_lexer": "ipython3",
   "version": "3.8.5"
  }
 },
 "nbformat": 4,
 "nbformat_minor": 4
}
