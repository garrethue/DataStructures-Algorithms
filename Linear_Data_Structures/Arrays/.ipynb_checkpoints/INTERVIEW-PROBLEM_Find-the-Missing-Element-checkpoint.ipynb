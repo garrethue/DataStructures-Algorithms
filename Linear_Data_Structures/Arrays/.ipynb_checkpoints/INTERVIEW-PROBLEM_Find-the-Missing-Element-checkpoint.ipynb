{
 "cells": [
  {
   "cell_type": "markdown",
   "metadata": {},
   "source": [
    "# Find the Missing Element\n",
    "## Problem\n",
    "Consider an array of non-negative integers. A second array is formed by shuffling the elements of the first array and deleting a random element. Given these two arrays, find which element is missing in the second array.\n",
    "\n",
    "Here is an example input, the first array is shuffled and the number 5 is removed to construct the second array.\n",
    "\n",
    "### Input:\n",
    "\n",
    "finder([1,2,3,4,5,6,7],[3,7,2,1,4,6])\n",
    "\n",
    "### Output:\n",
    "\n",
    "5 is the missing number"
   ]
  },
  {
   "cell_type": "code",
   "execution_count": 6,
   "metadata": {},
   "outputs": [],
   "source": [
    "def construct_ht(arr, ht):\n",
    "    for element in arr:\n",
    "        if element in ht:\n",
    "            ht[element] += 1\n",
    "        else:\n",
    "            ht[element] = 1\n",
    "\n",
    "def finder(arr1, arr2):\n",
    "    #initialize hts\n",
    "    ht1 = {}\n",
    "    ht2 = {}\n",
    "    \n",
    "    #construct hts\n",
    "    construct_ht(arr1, ht1)\n",
    "    construct_ht(arr2, ht2)\n",
    "    \n",
    "    for key, value in ht1.items():\n",
    "        if key in ht2:\n",
    "            if value != ht2[key]:\n",
    "                return key\n",
    "        else:\n",
    "            return key\n",
    "    \n",
    "    return \"Unexpected Error\"\n",
    "    "
   ]
  },
  {
   "cell_type": "code",
   "execution_count": 7,
   "metadata": {},
   "outputs": [
    {
     "name": "stdout",
     "output_type": "stream",
     "text": [
      "ALL TEST CASES PASSED\n"
     ]
    }
   ],
   "source": [
    "\"\"\"\n",
    "RUN THIS CELL TO TEST YOUR SOLUTION\n",
    "\"\"\"\n",
    "from nose.tools import assert_equal\n",
    "\n",
    "class TestFinder(object):\n",
    "    \n",
    "    def test(self,sol):\n",
    "        assert_equal(sol([5,5,7,7],[5,7,7]),5)\n",
    "        assert_equal(sol([1,2,3,4,5,6,7],[3,7,2,1,4,6]),5)\n",
    "        assert_equal(sol([9,8,7,6,5,4,3,2,1],[9,8,7,5,4,3,2,1]),6)\n",
    "        print('ALL TEST CASES PASSED')\n",
    "\n",
    "# Run test\n",
    "t = TestFinder()\n",
    "t.test(finder)"
   ]
  },
  {
   "cell_type": "markdown",
   "metadata": {},
   "source": [
    "# Instructor's solution\n",
    "The naive solution is to go through every element in the second array and check whether it appreas in the first array. Note that there may be duplicate elements in the arrays so we should pay special attention to that. The complexity of this is O(n^2) since we'd use two nested for-loops\n",
    "\n",
    "A more efficient solution is to SORT the first array, so while checking whether an element in the FIRST aray appears in the second, we can do binary search which is O(logn) time.\n",
    "Complexity of this algo would ultimately be O(n*logn) time.\n",
    "\n",
    "If we don't want to deal with the special case of duplicate numbers, we can sort BOTH arrays and iterate over them simultaneously.\n",
    "\n",
    "ONCE the two iterators have different values we can STOP and return the value of the first iterator."
   ]
  },
  {
   "cell_type": "code",
   "execution_count": 9,
   "metadata": {},
   "outputs": [],
   "source": [
    "def finder2(arr1,arr2):\n",
    "    \n",
    "    #O(n*logn) because of sorting\n",
    "    arr1.sort()\n",
    "    arr2.sort()\n",
    "    \n",
    "    for num1, num2 in zip(arr1,arr2):\n",
    "        print(num1, num2)\n",
    "        if num1 != num2:\n",
    "            return num1\n",
    "    \n",
    "    #otherwise, return last element of the arr\n",
    "    return arr1[-1]"
   ]
  },
  {
   "cell_type": "code",
   "execution_count": 10,
   "metadata": {},
   "outputs": [],
   "source": [
    "# Instructors Hash Table Solution\n",
    "import collections"
   ]
  },
  {
   "cell_type": "code",
   "execution_count": 14,
   "metadata": {},
   "outputs": [],
   "source": [
    "def finder3(arr1,arr2):\n",
    "    \n",
    "    #if the key isn't in dict, instead of an error, it add its to the dict\n",
    "    d = collections.defaultdict(int)\n",
    "    #like a normal python dictionary,\n",
    "    #except if there is no key, it simply adds it without error\n",
    "    \n",
    "    #count each time the element shows up in arr2\n",
    "    for num in arr2:\n",
    "        d[num] += 1\n",
    "    \n",
    "    #more elegant than my solution\n",
    "    #again incrementing and decrementing\n",
    "    \n",
    "    #go through the first array\n",
    "    #for each number in first arr,\n",
    "    #check if the number's mapped value is zero,\n",
    "    #if so, that is the missing element\n",
    "    #else it does show up in arr2, so we decrement that number\n",
    "    for num in arr1:\n",
    "        if d[num] == 0:\n",
    "            return num\n",
    "        else:\n",
    "            d[num] -= 1"
   ]
  },
  {
   "cell_type": "code",
   "execution_count": null,
   "metadata": {},
   "outputs": [],
   "source": []
  }
 ],
 "metadata": {
  "kernelspec": {
   "display_name": "Python 3",
   "language": "python",
   "name": "python3"
  },
  "language_info": {
   "codemirror_mode": {
    "name": "ipython",
    "version": 3
   },
   "file_extension": ".py",
   "mimetype": "text/x-python",
   "name": "python",
   "nbconvert_exporter": "python",
   "pygments_lexer": "ipython3",
   "version": "3.8.5"
  }
 },
 "nbformat": 4,
 "nbformat_minor": 4
}
