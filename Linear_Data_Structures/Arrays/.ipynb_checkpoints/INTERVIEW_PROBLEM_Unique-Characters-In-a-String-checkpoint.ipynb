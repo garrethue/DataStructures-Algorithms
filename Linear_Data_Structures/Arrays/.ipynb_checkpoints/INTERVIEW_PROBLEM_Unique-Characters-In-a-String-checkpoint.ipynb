{
 "cells": [
  {
   "cell_type": "markdown",
   "metadata": {},
   "source": [
    "# Unique Characters in String\n",
    "### Problem\n",
    "\n",
    "Given a string,determine if it is comprised of all unique characters. For example, the string 'abcde' has all unique characters and should return True. The string 'aabcde' contains duplicate characters and should return false."
   ]
  },
  {
   "cell_type": "code",
   "execution_count": 2,
   "metadata": {},
   "outputs": [],
   "source": [
    "def uni_char(string):\n",
    "    #initialize hash table\n",
    "    #O(n) time complexity\n",
    "    ht = {}\n",
    "    \n",
    "    for char in string:\n",
    "        if char in ht:\n",
    "            return False\n",
    "        else:\n",
    "            ht[char] = 1\n",
    "    \n",
    "    return True\n"
   ]
  },
  {
   "cell_type": "code",
   "execution_count": 4,
   "metadata": {},
   "outputs": [
    {
     "name": "stdout",
     "output_type": "stream",
     "text": [
      "ALL TEST CASES PASSED\n"
     ]
    }
   ],
   "source": [
    "\"\"\"\n",
    "RUN THIS CELL TO TEST YOUR CODE>\n",
    "\"\"\"\n",
    "from nose.tools import assert_equal\n",
    "\n",
    "\n",
    "class TestUnique(object):\n",
    "\n",
    "    def test(self, sol):\n",
    "        assert_equal(sol(''), True)\n",
    "        assert_equal(sol('goo'), False)\n",
    "        assert_equal(sol('abcdefg'), True)\n",
    "        print('ALL TEST CASES PASSED')\n",
    "        \n",
    "# Run Tests\n",
    "t = TestUnique()\n",
    "t.test(uni_char)"
   ]
  },
  {
   "cell_type": "code",
   "execution_count": 5,
   "metadata": {},
   "outputs": [],
   "source": [
    "#Alternate implementation\n",
    "\n",
    "def uni_char(string):\n",
    "    #if the string is unique, then the length of the string\n",
    "    #and a set constructed from this string should be EQUAL\n",
    "    #else, the string is NOT UNIQUE\n",
    "    return len(set(string)) == len(string)\n"
   ]
  },
  {
   "cell_type": "code",
   "execution_count": 6,
   "metadata": {},
   "outputs": [],
   "source": [
    "#another alternate solution, similar to mine, probably better because\n",
    "#we don't need to track values associated with keys\n",
    "def uni_char2(string):\n",
    "    characters_set = set()\n",
    "    \n",
    "    for char in string:\n",
    "        if char in characters_set:\n",
    "            return False\n",
    "        else:\n",
    "            characters_set.add(char)\n",
    "    \n",
    "    return True"
   ]
  },
  {
   "cell_type": "code",
   "execution_count": null,
   "metadata": {},
   "outputs": [],
   "source": []
  }
 ],
 "metadata": {
  "kernelspec": {
   "display_name": "Python 3",
   "language": "python",
   "name": "python3"
  },
  "language_info": {
   "codemirror_mode": {
    "name": "ipython",
    "version": 3
   },
   "file_extension": ".py",
   "mimetype": "text/x-python",
   "name": "python",
   "nbconvert_exporter": "python",
   "pygments_lexer": "ipython3",
   "version": "3.8.5"
  }
 },
 "nbformat": 4,
 "nbformat_minor": 4
}
