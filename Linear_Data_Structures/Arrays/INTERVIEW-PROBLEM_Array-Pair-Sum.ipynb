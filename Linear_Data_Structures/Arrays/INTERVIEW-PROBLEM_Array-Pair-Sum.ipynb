{
 "cells": [
  {
   "cell_type": "markdown",
   "metadata": {},
   "source": [
    "# Problem\n",
    "Given an integer array, output all the unique pairs that sum up to a specific value k.\n",
    "\n",
    "So the input:\n",
    "\n",
    "pair_sum([1,3,2,2],4)\n",
    "\n",
    "would return 2 pairs:\n",
    "\n",
    " (1,3)\n",
    " (2,2)\n",
    "\n",
    "### NOTE: FOR TESTING PURPOSES CHANGE YOUR FUNCTION SO IT OUTPUTS THE NUMBER OF PAIRS"
   ]
  },
  {
   "cell_type": "code",
   "execution_count": 39,
   "metadata": {},
   "outputs": [],
   "source": [
    "# I had the right idea with this implementation, I missed the mark with the creating a tuple using (min(), max())\n",
    "# also with dealing with elements and complements that are the same, like 2 where 2+2=4\n",
    "def pair_sum(arr,k):\n",
    "    \n",
    "    if len(arr) == 0:\n",
    "        return 0\n",
    "    \n",
    "    #loop through and construct a hash table\n",
    "    \n",
    "    #initialized the hash_table\n",
    "    hash_table = {}\n",
    "    counter = 0\n",
    "    set_key_complement_tracker = set()\n",
    "    \n",
    "    #if 5,5 in arr, and 5:2 in dict, then there's a pair\n",
    "    #know if there is at least a value of 2 in dict\n",
    "    \n",
    "    #constructd my hash table\n",
    "    for element in arr:\n",
    "        if element not in hash_table:\n",
    "            hash_table[element] = 1\n",
    "        else:\n",
    "            hash_table[element] += 1\n",
    "    \n",
    "    set_tracker = set()\n",
    "    for key in hash_table:\n",
    "        complement = k - key\n",
    "        key_complement_set = frozenset()\n",
    "        key_complement_set.add(key)\n",
    "        key_complement_set.add(complement)\n",
    "        if complement in hash_table and complement != key and key_complement_set not in set_key_complement_tracker: #for the scenario that key =2 and complement = 2\n",
    "            counter += 1\n",
    "            set_tracker.add(key_complement_set)\n",
    "        if complement == key:\n",
    "            #check if the frequency is greater than 2, if so, we can increment.\n",
    "            if hash_table[key] > 2 and key_complement_set not in set_key_complement_tracker:\n",
    "                counter += 1\n",
    "                set_tracker.add(key_complement_set)\n",
    "        \n",
    "        \n",
    "    return counter / 2"
   ]
  },
  {
   "cell_type": "code",
   "execution_count": 34,
   "metadata": {},
   "outputs": [
    {
     "ename": "AttributeError",
     "evalue": "'frozenset' object has no attribute 'add'",
     "output_type": "error",
     "traceback": [
      "\u001b[0;31m---------------------------------------------------------------------------\u001b[0m",
      "\u001b[0;31mAttributeError\u001b[0m                            Traceback (most recent call last)",
      "\u001b[0;32m<ipython-input-34-58e5ba4ee03c>\u001b[0m in \u001b[0;36m<module>\u001b[0;34m\u001b[0m\n\u001b[0;32m----> 1\u001b[0;31m \u001b[0mpair_sum\u001b[0m\u001b[0;34m(\u001b[0m\u001b[0;34m[\u001b[0m\u001b[0;36m1\u001b[0m\u001b[0;34m,\u001b[0m\u001b[0;36m3\u001b[0m\u001b[0;34m,\u001b[0m\u001b[0;36m2\u001b[0m\u001b[0;34m,\u001b[0m\u001b[0;36m2\u001b[0m\u001b[0;34m]\u001b[0m\u001b[0;34m,\u001b[0m\u001b[0;36m4\u001b[0m\u001b[0;34m)\u001b[0m\u001b[0;34m\u001b[0m\u001b[0;34m\u001b[0m\u001b[0m\n\u001b[0m\u001b[1;32m      2\u001b[0m \u001b[0;31m#OUTPUTS 2\u001b[0m\u001b[0;34m\u001b[0m\u001b[0;34m\u001b[0m\u001b[0;34m\u001b[0m\u001b[0m\n",
      "\u001b[0;32m<ipython-input-33-6e6dcc65ae4e>\u001b[0m in \u001b[0;36mpair_sum\u001b[0;34m(arr, k)\u001b[0m\n\u001b[1;32m     25\u001b[0m         \u001b[0mcomplement\u001b[0m \u001b[0;34m=\u001b[0m \u001b[0mk\u001b[0m \u001b[0;34m-\u001b[0m \u001b[0mkey\u001b[0m\u001b[0;34m\u001b[0m\u001b[0;34m\u001b[0m\u001b[0m\n\u001b[1;32m     26\u001b[0m         \u001b[0mkey_complement_set\u001b[0m \u001b[0;34m=\u001b[0m \u001b[0mfrozenset\u001b[0m\u001b[0;34m(\u001b[0m\u001b[0;34m)\u001b[0m\u001b[0;34m\u001b[0m\u001b[0;34m\u001b[0m\u001b[0m\n\u001b[0;32m---> 27\u001b[0;31m         \u001b[0mkey_complement_set\u001b[0m\u001b[0;34m.\u001b[0m\u001b[0madd\u001b[0m\u001b[0;34m(\u001b[0m\u001b[0mkey\u001b[0m\u001b[0;34m)\u001b[0m\u001b[0;34m\u001b[0m\u001b[0;34m\u001b[0m\u001b[0m\n\u001b[0m\u001b[1;32m     28\u001b[0m         \u001b[0mkey_complement_set\u001b[0m\u001b[0;34m.\u001b[0m\u001b[0madd\u001b[0m\u001b[0;34m(\u001b[0m\u001b[0mcomplement\u001b[0m\u001b[0;34m)\u001b[0m\u001b[0;34m\u001b[0m\u001b[0;34m\u001b[0m\u001b[0m\n\u001b[1;32m     29\u001b[0m         \u001b[0;32mif\u001b[0m \u001b[0mcomplement\u001b[0m \u001b[0;32min\u001b[0m \u001b[0mhash_table\u001b[0m \u001b[0;32mand\u001b[0m \u001b[0mcomplement\u001b[0m \u001b[0;34m!=\u001b[0m \u001b[0mkey\u001b[0m \u001b[0;32mand\u001b[0m \u001b[0mkey_complement_set\u001b[0m \u001b[0;32mnot\u001b[0m \u001b[0;32min\u001b[0m \u001b[0mset_key_complement_tracker\u001b[0m\u001b[0;34m:\u001b[0m \u001b[0;31m#for the scenario that key =2 and complement = 2\u001b[0m\u001b[0;34m\u001b[0m\u001b[0;34m\u001b[0m\u001b[0m\n",
      "\u001b[0;31mAttributeError\u001b[0m: 'frozenset' object has no attribute 'add'"
     ]
    }
   ],
   "source": [
    "pair_sum([1,3,2,2],4)\n",
    "#OUTPUTS 2"
   ]
  },
  {
   "cell_type": "code",
   "execution_count": 41,
   "metadata": {},
   "outputs": [],
   "source": [
    "#solution\n",
    "\n",
    "def pair_sum(arr, k):\n",
    "    \n",
    "    if len(arr) < 2: \n",
    "        return\n",
    "    \n",
    "    #sets for tracking\n",
    "    seen = set()\n",
    "    output = set()\n",
    "    \n",
    "    for num in arr:\n",
    "        #complement\n",
    "        complement = k - num\n",
    "        \n",
    "        #if we have not seen this complement, add it to seen!\n",
    "        #example: [1,9,...etc]\n",
    "        #first iteration is 1\n",
    "        #its complement is not in the seen set, so add 1 to it...\n",
    "        #next iteration is 9, complement is 1\n",
    "        #1 is in seen so we add a tuple (1,9) => min and max methods ensure that \n",
    "        #we have a unique tuple so (9,1) will not show up as a duplicate in output set\n",
    "        \n",
    "        #what about num = 2? complement is 2\n",
    "        #will be added to seen,\n",
    "        #but we need to see 2 again for the else: logic to be performed!\n",
    "        if complement not in seen:\n",
    "            seen.add(num)\n",
    "        else:\n",
    "            #add a tuple\n",
    "            output.add(( min(num,complement), max(num,complement) )) #THIS IS SO WE HAVE A UNIQUE TUPLE, (2,3) in case we see (3,2)\n",
    "    \n",
    "    return len(output)\n",
    "        \n",
    "            "
   ]
  },
  {
   "cell_type": "code",
   "execution_count": 42,
   "metadata": {},
   "outputs": [
    {
     "data": {
      "text/plain": [
       "2"
      ]
     },
     "execution_count": 42,
     "metadata": {},
     "output_type": "execute_result"
    }
   ],
   "source": [
    "pair_sum([1,2,2,3], 4)"
   ]
  },
  {
   "cell_type": "code",
   "execution_count": 44,
   "metadata": {},
   "outputs": [
    {
     "name": "stdout",
     "output_type": "stream",
     "text": [
      "ALL TEST CASES PASSED\n"
     ]
    }
   ],
   "source": [
    "\"\"\"\n",
    "RUN THIS CELL TO TEST YOUR SOLUTION\n",
    "\"\"\"\n",
    "from nose.tools import assert_equal\n",
    "\n",
    "class TestPair(object):\n",
    "    \n",
    "    def test(self,sol):\n",
    "        assert_equal(sol([1,9,2,8,3,7,4,6,5,5,13,14,11,13,-1],10),6)\n",
    "        assert_equal(sol([1,2,3,1],3),1)\n",
    "        assert_equal(sol([1,3,2,2],4),2)\n",
    "        print('ALL TEST CASES PASSED')\n",
    "        \n",
    "#Run tests\n",
    "t = TestPair()\n",
    "t.test(pair_sum)"
   ]
  },
  {
   "cell_type": "code",
   "execution_count": null,
   "metadata": {},
   "outputs": [],
   "source": [
    "#re-do this problem to make sure you fully understand"
   ]
  }
 ],
 "metadata": {
  "kernelspec": {
   "display_name": "Python 3",
   "language": "python",
   "name": "python3"
  },
  "language_info": {
   "codemirror_mode": {
    "name": "ipython",
    "version": 3
   },
   "file_extension": ".py",
   "mimetype": "text/x-python",
   "name": "python",
   "nbconvert_exporter": "python",
   "pygments_lexer": "ipython3",
   "version": "3.8.5"
  }
 },
 "nbformat": 4,
 "nbformat_minor": 4
}
