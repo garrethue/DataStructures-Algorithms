{
 "cells": [
  {
   "cell_type": "markdown",
   "metadata": {},
   "source": [
    "# Problem\n",
    "Given a string in the form 'AAAABBBBCCCCCDDEEEE' compress it to become 'A4B4C5D2E4'. For this problem, you can falsely \"compress\" strings of single or double letters. For instance, it is okay for 'AAB' to return 'A2B1' even though this technically takes more space.\n",
    "\n",
    "The function should also be case sensitive, so that a string 'AAAaaa' returns 'A3a3'."
   ]
  },
  {
   "cell_type": "code",
   "execution_count": 21,
   "metadata": {},
   "outputs": [],
   "source": [
    "def compress(string):\n",
    "    '''\n",
    "    should be O(n) time complexity thanks to hash table\n",
    "    '''\n",
    "    if len(string) == 0:\n",
    "        return ''\n",
    "    \n",
    "    ht = {}\n",
    "    \n",
    "    for char in string:\n",
    "        if char in ht:\n",
    "            ht[char] += 1\n",
    "        else:\n",
    "            ht[char] = 1\n",
    "    \n",
    "    return_string = \"\"\n",
    "    \n",
    "    for key,value in ht.items():\n",
    "        return_string += \"{}{}\".format(key,value)\n",
    "    \n",
    "    return return_string"
   ]
  },
  {
   "cell_type": "code",
   "execution_count": 22,
   "metadata": {},
   "outputs": [
    {
     "name": "stdout",
     "output_type": "stream",
     "text": [
      "ALL TEST CASES PASSED\n"
     ]
    }
   ],
   "source": [
    "\"\"\"\n",
    "RUN THIS CELL TO TEST YOUR SOLUTION\n",
    "\"\"\"\n",
    "from nose.tools import assert_equal\n",
    "\n",
    "class TestCompress(object):\n",
    "\n",
    "    def test(self, sol):\n",
    "        assert_equal(sol(''), '')\n",
    "        assert_equal(sol('AABBCC'), 'A2B2C2')\n",
    "        assert_equal(sol('AAABCCDDDDD'), 'A3B1C2D5')\n",
    "        print('ALL TEST CASES PASSED')\n",
    "\n",
    "# Run Tests\n",
    "t = TestCompress()\n",
    "t.test(compress)"
   ]
  },
  {
   "cell_type": "code",
   "execution_count": 23,
   "metadata": {},
   "outputs": [],
   "source": [
    "#Instructors Solution:\n",
    "def compress(s):\n",
    "    \n",
    "    #begin run as an empty string\n",
    "    r = \"\" #RETURN STRING\n",
    "    str_length = len(s)\n",
    "    \n",
    "    #check edge cases\n",
    "    if str_length == 0:\n",
    "        return \"\"\n",
    "    if str_length == 1:\n",
    "        return s+\"1\" #if string is 'a' then 'a1'\n",
    "    \n",
    "    last = s[0]\n",
    "    cnt = 1 #count\n",
    "    i = 1 #index\n",
    "    \n",
    "    while i < str_length: #while the index is less than the strings length\n",
    "        \n",
    "        if s[i] == s[i-1]: #if current element is the same as the element before it\n",
    "            #we increment the count\n",
    "            cnt += 1\n",
    "        else: \n",
    "            #else the letters are now different, so we must process this\n",
    "            #by appending to the string the letter and count!\n",
    "            #concat the return string with the previous string character and append the count with it! \n",
    "            r = r + s[i-1] + str(cnt) \n",
    "            \n",
    "            #re-defined the count for the next sequence of characters\n",
    "            cnt = 1\n",
    "        \n",
    "        i += 1 #increase until i == length\n",
    "    \n",
    "    #when i == length\n",
    "    r = r + s[i-1] + str(cnt) #this is to get the last letter!\n",
    "    \n",
    "    return r\n",
    "    "
   ]
  },
  {
   "cell_type": "code",
   "execution_count": 26,
   "metadata": {},
   "outputs": [
    {
     "data": {
      "text/plain": [
       "'A2B1'"
      ]
     },
     "execution_count": 26,
     "metadata": {},
     "output_type": "execute_result"
    }
   ],
   "source": [
    "compress('AAB')"
   ]
  },
  {
   "cell_type": "code",
   "execution_count": 25,
   "metadata": {},
   "outputs": [
    {
     "name": "stdout",
     "output_type": "stream",
     "text": [
      "ALL TEST CASES PASSED\n"
     ]
    }
   ],
   "source": [
    "\"\"\"\n",
    "RUN THIS CELL TO TEST YOUR SOLUTION\n",
    "\"\"\"\n",
    "from nose.tools import assert_equal\n",
    "\n",
    "class TestCompress(object):\n",
    "\n",
    "    def test(self, sol):\n",
    "        assert_equal(sol(''), '')\n",
    "        assert_equal(sol('AABBCC'), 'A2B2C2')\n",
    "        assert_equal(sol('AAABCCDDDDD'), 'A3B1C2D5')\n",
    "        print('ALL TEST CASES PASSED')\n",
    "\n",
    "# Run Tests\n",
    "t = TestCompress()\n",
    "t.test(compress)"
   ]
  },
  {
   "cell_type": "code",
   "execution_count": 35,
   "metadata": {},
   "outputs": [],
   "source": [
    "def func(num):\n",
    "    print(num)\n",
    "    num[1] = 3\n",
    "    return num"
   ]
  },
  {
   "cell_type": "code",
   "execution_count": 36,
   "metadata": {},
   "outputs": [
    {
     "name": "stdout",
     "output_type": "stream",
     "text": [
      "[1, 2]\n",
      "[1, 3]\n",
      "[1, 3]\n"
     ]
    }
   ],
   "source": [
    "x = [1,2]\n",
    "print(func(x))\n",
    "print(x)"
   ]
  },
  {
   "cell_type": "code",
   "execution_count": null,
   "metadata": {},
   "outputs": [],
   "source": []
  }
 ],
 "metadata": {
  "kernelspec": {
   "display_name": "Python 3",
   "language": "python",
   "name": "python3"
  },
  "language_info": {
   "codemirror_mode": {
    "name": "ipython",
    "version": 3
   },
   "file_extension": ".py",
   "mimetype": "text/x-python",
   "name": "python",
   "nbconvert_exporter": "python",
   "pygments_lexer": "ipython3",
   "version": "3.8.5"
  }
 },
 "nbformat": 4,
 "nbformat_minor": 4
}
