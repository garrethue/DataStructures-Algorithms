{
 "cells": [
  {
   "cell_type": "markdown",
   "metadata": {},
   "source": [
    "# Stack Implementation using Python Lists"
   ]
  },
  {
   "cell_type": "code",
   "execution_count": 63,
   "metadata": {},
   "outputs": [],
   "source": [
    "class Stack:\n",
    "    \n",
    "    #NOTE: user-defined methods have a time complexity of O(1)\n",
    "    def __init__(self):\n",
    "        \"\"\"\n",
    "        creates a stack that is empty\n",
    "        it needs no parameters and returns an empty stack\n",
    "        \"\"\"\n",
    "        self.list = []\n",
    "    \n",
    "    def push(self, item):\n",
    "        \"\"\"\n",
    "        adds a new item to the top of the stack \n",
    "        it needs the item and returns nothing\n",
    "        \"\"\"\n",
    "        self.list.append(item)\n",
    "    \n",
    "    def pop(self):\n",
    "        \"\"\"\n",
    "        removes the top item from the stack. \n",
    "        it needs no params and returns the item. The stack is MODIFIED\n",
    "        \"\"\"\n",
    "        return self.list.pop()\n",
    "    \n",
    "    def peek(self):\n",
    "        \"\"\"\n",
    "        returns the top item from the stack but does not remove it\n",
    "        it needs no params and the stack is NOT MODIFIED\n",
    "        \"\"\"\n",
    "        return self.list[len(self.list) - 1]\n",
    "    \n",
    "    def is_empty(self):\n",
    "        \"\"\"\n",
    "        tests to see whether the stack is empty\n",
    "        it needs no params and returns a boolean value\n",
    "        \"\"\"\n",
    "        return len(self.list) == 0\n",
    "    \n",
    "    def size(self):\n",
    "        \"\"\"\n",
    "        returns the number of items on the stack\n",
    "        it needs no params and returns an integer\n",
    "        \"\"\"\n",
    "        return len(self.list)"
   ]
  },
  {
   "cell_type": "code",
   "execution_count": 64,
   "metadata": {},
   "outputs": [],
   "source": [
    "my_stack = Stack()"
   ]
  },
  {
   "cell_type": "code",
   "execution_count": 65,
   "metadata": {},
   "outputs": [],
   "source": [
    "my_stack.push(1)"
   ]
  },
  {
   "cell_type": "code",
   "execution_count": 66,
   "metadata": {},
   "outputs": [
    {
     "data": {
      "text/plain": [
       "[1]"
      ]
     },
     "execution_count": 66,
     "metadata": {},
     "output_type": "execute_result"
    }
   ],
   "source": [
    "my_stack.list"
   ]
  },
  {
   "cell_type": "code",
   "execution_count": 67,
   "metadata": {},
   "outputs": [
    {
     "data": {
      "text/plain": [
       "1"
      ]
     },
     "execution_count": 67,
     "metadata": {},
     "output_type": "execute_result"
    }
   ],
   "source": [
    "my_stack.peek()"
   ]
  },
  {
   "cell_type": "code",
   "execution_count": 68,
   "metadata": {},
   "outputs": [
    {
     "data": {
      "text/plain": [
       "[1]"
      ]
     },
     "execution_count": 68,
     "metadata": {},
     "output_type": "execute_result"
    }
   ],
   "source": [
    "my_stack.list"
   ]
  },
  {
   "cell_type": "code",
   "execution_count": 69,
   "metadata": {},
   "outputs": [
    {
     "data": {
      "text/plain": [
       "False"
      ]
     },
     "execution_count": 69,
     "metadata": {},
     "output_type": "execute_result"
    }
   ],
   "source": [
    "my_stack.is_empty()"
   ]
  },
  {
   "cell_type": "code",
   "execution_count": 70,
   "metadata": {},
   "outputs": [
    {
     "data": {
      "text/plain": [
       "1"
      ]
     },
     "execution_count": 70,
     "metadata": {},
     "output_type": "execute_result"
    }
   ],
   "source": [
    "my_stack.size()"
   ]
  },
  {
   "cell_type": "markdown",
   "metadata": {},
   "source": [
    "# Parentheses Balance"
   ]
  },
  {
   "cell_type": "code",
   "execution_count": 71,
   "metadata": {},
   "outputs": [],
   "source": [
    "#my implementation of balance symbol checker\n",
    "def balance_checker(string):\n",
    "    \"\"\"\n",
    "    Takes in a string and checks to see if symbols in the set of { ( , ) , { , }, [ , ] }\n",
    "    are properly balanced. This algorithm leverages a Stack data structure.\n",
    "    \"\"\"\n",
    "    my_stack = Stack()\n",
    "    try:\n",
    "        for char in string:\n",
    "            if char == '(' or char == '{' or char == '[':\n",
    "                my_stack.push(char)\n",
    "            elif char == ')' or char == '}' or char == ']':\n",
    "                if my_stack.peek() == '(' and char ==')':\n",
    "                    my_stack.pop()\n",
    "                elif my_stack.peek() == '[' and char ==']':\n",
    "                    my_stack.pop()\n",
    "                elif my_stack.peek() == '{' and char =='}':\n",
    "                    my_stack.pop()\n",
    "                else:\n",
    "                    return False\n",
    "    except:\n",
    "        return False\n",
    "    \n",
    "    if my_stack.is_empty():\n",
    "        return True\n",
    "\n",
    "    return False"
   ]
  },
  {
   "cell_type": "code",
   "execution_count": 72,
   "metadata": {},
   "outputs": [
    {
     "name": "stdout",
     "output_type": "stream",
     "text": [
      "False\n"
     ]
    }
   ],
   "source": [
    "print(balance_checker(')('))"
   ]
  },
  {
   "cell_type": "code",
   "execution_count": 73,
   "metadata": {},
   "outputs": [
    {
     "name": "stdout",
     "output_type": "stream",
     "text": [
      "False\n"
     ]
    }
   ],
   "source": [
    "print(balance_checker('())'))"
   ]
  },
  {
   "cell_type": "code",
   "execution_count": 74,
   "metadata": {},
   "outputs": [
    {
     "name": "stdout",
     "output_type": "stream",
     "text": [
      "True\n"
     ]
    }
   ],
   "source": [
    "print(balance_checker('((()))'))"
   ]
  },
  {
   "cell_type": "code",
   "execution_count": 75,
   "metadata": {},
   "outputs": [
    {
     "name": "stdout",
     "output_type": "stream",
     "text": [
      "False\n"
     ]
    }
   ],
   "source": [
    "print(balance_checker('(((()))'))"
   ]
  },
  {
   "cell_type": "code",
   "execution_count": 76,
   "metadata": {},
   "outputs": [
    {
     "name": "stdout",
     "output_type": "stream",
     "text": [
      "False\n"
     ]
    }
   ],
   "source": [
    "print(balance_checker('())'))"
   ]
  },
  {
   "cell_type": "code",
   "execution_count": 77,
   "metadata": {},
   "outputs": [
    {
     "name": "stdout",
     "output_type": "stream",
     "text": [
      "True\n"
     ]
    }
   ],
   "source": [
    "print(balance_checker('((()()))'))"
   ]
  },
  {
   "cell_type": "code",
   "execution_count": 78,
   "metadata": {},
   "outputs": [
    {
     "name": "stdout",
     "output_type": "stream",
     "text": [
      "True\n"
     ]
    }
   ],
   "source": [
    "print(balance_checker('{}[]()')) "
   ]
  },
  {
   "cell_type": "code",
   "execution_count": 79,
   "metadata": {},
   "outputs": [
    {
     "name": "stdout",
     "output_type": "stream",
     "text": [
      "True\n"
     ]
    }
   ],
   "source": [
    "print(balance_checker('{{()}}[[()]]({{()}})')) #true"
   ]
  },
  {
   "cell_type": "code",
   "execution_count": 80,
   "metadata": {},
   "outputs": [
    {
     "name": "stdout",
     "output_type": "stream",
     "text": [
      "True\n"
     ]
    }
   ],
   "source": [
    "print(balance_checker('12[]'))"
   ]
  },
  {
   "cell_type": "code",
   "execution_count": 81,
   "metadata": {},
   "outputs": [
    {
     "name": "stdout",
     "output_type": "stream",
     "text": [
      "True\n"
     ]
    }
   ],
   "source": [
    "print(balance_checker('')) #there's nothing so it's balanced"
   ]
  },
  {
   "cell_type": "code",
   "execution_count": 82,
   "metadata": {},
   "outputs": [
    {
     "name": "stdout",
     "output_type": "stream",
     "text": [
      "False\n"
     ]
    }
   ],
   "source": [
    "print(balance_checker('{}}[][(()')) #false"
   ]
  },
  {
   "cell_type": "markdown",
   "metadata": {},
   "source": [
    "# Base Converter Functions"
   ]
  },
  {
   "cell_type": "code",
   "execution_count": 83,
   "metadata": {},
   "outputs": [],
   "source": [
    "def decimal_to_binary(decimal_num):\n",
    "    \"utilize a stack to convert a decimal number into binary\"\n",
    "    stack = Stack()\n",
    "    \n",
    "    #while the integer is positive\n",
    "    while decimal_num > 0:\n",
    "        quotient, remainder = divmod(decimal_num, 2)\n",
    "        stack.push(remainder)\n",
    "        decimal_num = quotient\n",
    "    \n",
    "    binary_string = '' #construct a binary string\n",
    "\n",
    "    while not stack.is_empty():\n",
    "        binary_string += str(stack.pop())\n",
    "        \n",
    "#     i used a for-loop but could use a while\n",
    "#     for _ in range(stack.size()):\n",
    "#         my_string += str(stack.pop())\n",
    "    \n",
    "    return binary_string"
   ]
  },
  {
   "cell_type": "code",
   "execution_count": 84,
   "metadata": {},
   "outputs": [
    {
     "name": "stdout",
     "output_type": "stream",
     "text": [
      "1100100\n"
     ]
    }
   ],
   "source": [
    "print(decimal_to_binary(100))"
   ]
  },
  {
   "cell_type": "code",
   "execution_count": 85,
   "metadata": {},
   "outputs": [],
   "source": [
    "def base_converter(decimal_num, base=2):\n",
    "    \"\"\"takes any integer > 0 in decimal form and converts it to a new base representation\"\"\"\n",
    "    \n",
    "    #use digits to map remainders that are greater than 9\n",
    "    digits = \"0123456789ABCDEFGHIJKLMNOPQRSTUVWXYZ\"\n",
    "    \n",
    "    if decimal_num < 0:\n",
    "        return \"error\"\n",
    "    \n",
    "    stack = Stack()\n",
    "    \n",
    "    while decimal_num > 0:\n",
    "        quotient, remainder = divmod(decimal_num, base)\n",
    "        stack.push(digits[remainder]) #with remainder value, map to proper digit in digits variable\n",
    "        decimal_num = quotient\n",
    "    \n",
    "    return_string = \"\"\n",
    "    \n",
    "    while not stack.is_empty():\n",
    "        return_string += str(stack.pop())\n",
    "    \n",
    "    return return_string"
   ]
  },
  {
   "cell_type": "code",
   "execution_count": 86,
   "metadata": {},
   "outputs": [
    {
     "name": "stdout",
     "output_type": "stream",
     "text": [
      "11001\n",
      "100\n",
      "10\n"
     ]
    }
   ],
   "source": [
    "print(base_converter(25, 2))\n",
    "print(base_converter(256, 16))\n",
    "print(base_converter(26, 26))"
   ]
  },
  {
   "cell_type": "markdown",
   "metadata": {},
   "source": [
    "# Infix, Prefix, Postfix Expressions"
   ]
  },
  {
   "cell_type": "code",
   "execution_count": null,
   "metadata": {},
   "outputs": [],
   "source": []
  }
 ],
 "metadata": {
  "kernelspec": {
   "display_name": "Python 3",
   "language": "python",
   "name": "python3"
  },
  "language_info": {
   "codemirror_mode": {
    "name": "ipython",
    "version": 3
   },
   "file_extension": ".py",
   "mimetype": "text/x-python",
   "name": "python",
   "nbconvert_exporter": "python",
   "pygments_lexer": "ipython3",
   "version": "3.8.5"
  }
 },
 "nbformat": 4,
 "nbformat_minor": 4
}
