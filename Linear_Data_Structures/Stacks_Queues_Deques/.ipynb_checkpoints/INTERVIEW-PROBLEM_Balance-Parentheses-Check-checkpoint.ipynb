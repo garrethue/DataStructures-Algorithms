{
 "cells": [
  {
   "cell_type": "markdown",
   "metadata": {},
   "source": [
    "# Balanced Parentheses Check\n",
    "## Problem Statement\n",
    "Given a string of opening and closing parentheses, check whether it’s balanced. We have 3 types of parentheses: round brackets: (), square brackets: [], and curly brackets: {}. Assume that the string doesn’t contain any other character than these, no spaces words or numbers. As a reminder, balanced parentheses require every opening parenthesis to be closed in the reverse order opened. For example ‘([])’ is balanced but ‘([)]’ is not.\n",
    "\n",
    "You can assume the input string has no spaces."
   ]
  },
  {
   "cell_type": "code",
   "execution_count": 10,
   "metadata": {},
   "outputs": [],
   "source": [
    "#implement stack class\n",
    "class Stack:\n",
    "    \n",
    "    #NOTE: user-defined methods have a time complexity of O(1)\n",
    "    def __init__(self):\n",
    "        \"\"\"\n",
    "        creates a stack that is empty\n",
    "        it needs no parameters and returns an empty stack\n",
    "        \"\"\"\n",
    "        self.list = []\n",
    "    \n",
    "    def push(self, item):\n",
    "        \"\"\"\n",
    "        adds a new item to the top of the stack \n",
    "        it needs the item and returns nothing\n",
    "        \"\"\"\n",
    "        self.list.append(item)\n",
    "    \n",
    "    def pop(self):\n",
    "        \"\"\"\n",
    "        removes the top item from the stack. \n",
    "        it needs no params and returns the item. The stack is MODIFIED\n",
    "        \"\"\"\n",
    "        if self.is_empty():\n",
    "            return \"stack is empty!\"\n",
    "        \n",
    "        return self.list.pop()\n",
    "    \n",
    "    def peek(self):\n",
    "        \"\"\"\n",
    "        returns the top item from the stack but does not remove it\n",
    "        it needs no params and the stack is NOT MODIFIED\n",
    "        \"\"\"\n",
    "        return self.list[len(self.list) - 1]\n",
    "    \n",
    "    def is_empty(self):\n",
    "        \"\"\"\n",
    "        tests to see whether the stack is empty\n",
    "        it needs no params and returns a boolean value\n",
    "        \"\"\"\n",
    "        return len(self.list) == 0\n",
    "    \n",
    "    def size(self):\n",
    "        \"\"\"\n",
    "        returns the number of items on the stack\n",
    "        it needs no params and returns an integer\n",
    "        \"\"\"\n",
    "        return len(self.list)"
   ]
  },
  {
   "cell_type": "code",
   "execution_count": 39,
   "metadata": {},
   "outputs": [],
   "source": [
    "def balance_check(string):\n",
    "    stack = Stack()\n",
    "    for char in string:\n",
    "        if char == \"(\" or char == \"[\" or char == \"{\":\n",
    "            stack.push(char)\n",
    "        elif char == \")\":\n",
    "            if stack.peek() == \"(\" and not stack.is_empty():\n",
    "                stack.pop()\n",
    "            else:\n",
    "                return False\n",
    "        elif char == \"]\":\n",
    "            if stack.peek() == \"[\" and not stack.is_empty():\n",
    "                stack.pop()\n",
    "            else:\n",
    "                return False\n",
    "        elif char == \"}\":\n",
    "            if stack.peek() == \"{\" and not stack.is_empty():\n",
    "                stack.pop()\n",
    "            else:\n",
    "                return False\n",
    "    \n",
    "    if stack.is_empty():\n",
    "        return True\n",
    "        \n",
    "    return False"
   ]
  },
  {
   "cell_type": "code",
   "execution_count": 40,
   "metadata": {},
   "outputs": [
    {
     "data": {
      "text/plain": [
       "True"
      ]
     },
     "execution_count": 40,
     "metadata": {},
     "output_type": "execute_result"
    }
   ],
   "source": [
    "balance_check('[]')\n"
   ]
  },
  {
   "cell_type": "code",
   "execution_count": 41,
   "metadata": {},
   "outputs": [
    {
     "data": {
      "text/plain": [
       "True"
      ]
     },
     "execution_count": 41,
     "metadata": {},
     "output_type": "execute_result"
    }
   ],
   "source": [
    "balance_check('[](){([[[]]])}')\n"
   ]
  },
  {
   "cell_type": "code",
   "execution_count": 42,
   "metadata": {},
   "outputs": [
    {
     "data": {
      "text/plain": [
       "False"
      ]
     },
     "execution_count": 42,
     "metadata": {},
     "output_type": "execute_result"
    }
   ],
   "source": [
    "balance_check('()(){]}')\n"
   ]
  },
  {
   "cell_type": "code",
   "execution_count": 43,
   "metadata": {},
   "outputs": [
    {
     "name": "stdout",
     "output_type": "stream",
     "text": [
      "ALL TEST CASES PASSED\n"
     ]
    }
   ],
   "source": [
    "\"\"\"\n",
    "RUN THIS CELL TO TEST YOUR SOLUTION\n",
    "\"\"\"\n",
    "from nose.tools import assert_equal\n",
    "\n",
    "class TestBalanceCheck(object):\n",
    "    \n",
    "    def test(self,sol):\n",
    "        assert_equal(sol('[](){([[[]]])}('),False)\n",
    "        assert_equal(sol('[{{{(())}}}]((()))'),True)\n",
    "        assert_equal(sol('[[[]])]'),False)\n",
    "        print ('ALL TEST CASES PASSED')\n",
    "        \n",
    "# Run Tests\n",
    "\n",
    "t = TestBalanceCheck()\n",
    "t.test(balance_check)"
   ]
  },
  {
   "cell_type": "code",
   "execution_count": null,
   "metadata": {},
   "outputs": [],
   "source": []
  }
 ],
 "metadata": {
  "kernelspec": {
   "display_name": "Python 3",
   "language": "python",
   "name": "python3"
  },
  "language_info": {
   "codemirror_mode": {
    "name": "ipython",
    "version": 3
   },
   "file_extension": ".py",
   "mimetype": "text/x-python",
   "name": "python",
   "nbconvert_exporter": "python",
   "pygments_lexer": "ipython3",
   "version": "3.8.5"
  }
 },
 "nbformat": 4,
 "nbformat_minor": 4
}
