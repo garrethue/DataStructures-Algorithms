{
 "cells": [
  {
   "cell_type": "code",
   "execution_count": 20,
   "metadata": {},
   "outputs": [],
   "source": [
    "class Node:\n",
    "\n",
    "    def __init__(self, value):\n",
    "        self.value = value\n",
    "        self.nextnode  = None"
   ]
  },
  {
   "cell_type": "code",
   "execution_count": 26,
   "metadata": {},
   "outputs": [],
   "source": [
    "#test data\n",
    "a = Node(1)\n",
    "b = Node(2)\n",
    "c = Node(3)\n",
    "d = Node(4)\n",
    "e = Node(5)\n",
    "\n",
    "a.nextnode = b\n",
    "b.nextnode = c\n",
    "c.nextnode = d\n",
    "d.nextnode = e\n",
    "\n"
   ]
  },
  {
   "cell_type": "code",
   "execution_count": 22,
   "metadata": {},
   "outputs": [],
   "source": [
    "def nth_to_last_node(nth_node, headnode):\n",
    "    # O(n) time complexity\n",
    "    #initialize count to determine size of list\n",
    "    count = 0\n",
    "    current_node = headnode\n",
    "    \n",
    "    while current_node is not None:\n",
    "        count += 1\n",
    "        current_node = current_node.nextnode\n",
    "    \n",
    "    #node_position tells you when to find the nth node\n",
    "    node_position = count - nth_node + 1\n",
    "    \n",
    "    #reset count and current_node to re-traverse\n",
    "    count = 0\n",
    "    current_node = headnode\n",
    "    #now with node_position, iterate again and grab value\n",
    "    while current_node is not None:\n",
    "        count+=1\n",
    "        if count == node_position:\n",
    "            return current_node.value\n",
    "        current_node = current_node.nextnode\n",
    "    \n",
    "    return 'unexpected result'"
   ]
  },
  {
   "cell_type": "code",
   "execution_count": 23,
   "metadata": {},
   "outputs": [],
   "source": [
    "# This would return the node d with a value of 4, because its the 2nd to last node.\n",
    "target_node = nth_to_last_node(2, a) "
   ]
  },
  {
   "cell_type": "code",
   "execution_count": 24,
   "metadata": {},
   "outputs": [
    {
     "name": "stdout",
     "output_type": "stream",
     "text": [
      "4\n"
     ]
    }
   ],
   "source": [
    "print(target_node)"
   ]
  },
  {
   "cell_type": "code",
   "execution_count": 42,
   "metadata": {},
   "outputs": [],
   "source": [
    "#refactored solution\n",
    "def nth_to_last_node(n, head):\n",
    "    \n",
    "    left_pointer = head\n",
    "    right_pointer = head\n",
    "    \n",
    "    #move right pointer to correct position\n",
    "    for i in range(n-1):\n",
    "        #garret: what if 'n' is larger than the linked list? Return an error!\n",
    "        if right_pointer.nextnode is None:\n",
    "            raise LookupError('outside bounds!')\n",
    "        right_pointer = right_pointer.nextnode\n",
    "    \n",
    "    #now right is in correct position, traverse til right is at the tail\n",
    "    \n",
    "    while right_pointer.nextnode is not None:\n",
    "        #move pointers in SYNC\n",
    "        right_pointer = right_pointer.nextnode\n",
    "        left_pointer = left_pointer.nextnode\n",
    "        \n",
    "    #once right is at the tail,we know left is at the target\n",
    "    \n",
    "    return left_pointer #return the left_pointer because it'll be the nth node"
   ]
  },
  {
   "cell_type": "code",
   "execution_count": 40,
   "metadata": {},
   "outputs": [
    {
     "name": "stdout",
     "output_type": "stream",
     "text": [
      "4\n"
     ]
    }
   ],
   "source": [
    "target_node = nth_to_last_node(2, a) \n",
    "print(target_node)"
   ]
  },
  {
   "cell_type": "code",
   "execution_count": null,
   "metadata": {},
   "outputs": [],
   "source": []
  }
 ],
 "metadata": {
  "kernelspec": {
   "display_name": "Python 3",
   "language": "python",
   "name": "python3"
  },
  "language_info": {
   "codemirror_mode": {
    "name": "ipython",
    "version": 3
   },
   "file_extension": ".py",
   "mimetype": "text/x-python",
   "name": "python",
   "nbconvert_exporter": "python",
   "pygments_lexer": "ipython3",
   "version": "3.8.5"
  }
 },
 "nbformat": 4,
 "nbformat_minor": 4
}
