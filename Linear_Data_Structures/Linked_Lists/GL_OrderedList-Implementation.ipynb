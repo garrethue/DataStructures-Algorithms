{
 "cells": [
  {
   "cell_type": "code",
   "execution_count": 12,
   "metadata": {},
   "outputs": [],
   "source": [
    "class Node:\n",
    "    def __init__(self, value):\n",
    "        self.value = value \n",
    "        self.next = None\n",
    "\n",
    "class OrderedList:\n",
    "    def __init__(self):\n",
    "        self.head = None\n",
    "        \n",
    "    def search(self, item):\n",
    "        #start at head\n",
    "        current_node = self.head\n",
    "        \n",
    "        while current_node is not None:\n",
    "            if current_node.value == item:\n",
    "                return True\n",
    "            elif current_node.value > item:\n",
    "                return False\n",
    "            current_node = current_node.next\n",
    "        \n",
    "        #if we break out of the while loop, this means we traversed with no results\n",
    "        return False\n",
    "    \n",
    "    def add(self, item):\n",
    "        #initialize current and previous\n",
    "        current_node = self.head\n",
    "        previous_node = None\n",
    "        \n",
    "        while current_node and current_node.value < item:\n",
    "            previous_node = current_node\n",
    "            current_node = current_node.next\n",
    "        \n",
    "        temp = Node(item)\n",
    "        if previous_node is None: # add to start\n",
    "            #self.head = temp.next #wrong!! we lose the linked list if i do this\n",
    "            temp.next = self.head #\n",
    "            return True\n",
    "        else:\n",
    "            previous_node.next = temp\n",
    "            temp.next = current_node\n",
    "            #this works for both the case of adding to the end as well as adding in the middle\n",
    "\n",
    "    \n",
    "        "
   ]
  },
  {
   "cell_type": "code",
   "execution_count": 5,
   "metadata": {},
   "outputs": [],
   "source": [
    "a = Node(1)\n",
    "b = Node(2)\n",
    "c = Node(3)\n",
    "\n",
    "a.next = b\n",
    "b.next = c"
   ]
  },
  {
   "cell_type": "code",
   "execution_count": 6,
   "metadata": {},
   "outputs": [],
   "source": [
    "my_linked_list = OrderedList()"
   ]
  },
  {
   "cell_type": "code",
   "execution_count": 7,
   "metadata": {},
   "outputs": [],
   "source": [
    "my_linked_list.head = a"
   ]
  },
  {
   "cell_type": "code",
   "execution_count": 11,
   "metadata": {},
   "outputs": [
    {
     "data": {
      "text/plain": [
       "False"
      ]
     },
     "execution_count": 11,
     "metadata": {},
     "output_type": "execute_result"
    }
   ],
   "source": [
    "my_linked_list.search(1100)"
   ]
  },
  {
   "cell_type": "code",
   "execution_count": null,
   "metadata": {},
   "outputs": [],
   "source": []
  }
 ],
 "metadata": {
  "kernelspec": {
   "display_name": "Python 3",
   "language": "python",
   "name": "python3"
  },
  "language_info": {
   "codemirror_mode": {
    "name": "ipython",
    "version": 3
   },
   "file_extension": ".py",
   "mimetype": "text/x-python",
   "name": "python",
   "nbconvert_exporter": "python",
   "pygments_lexer": "ipython3",
   "version": "3.8.5"
  }
 },
 "nbformat": 4,
 "nbformat_minor": 4
}
