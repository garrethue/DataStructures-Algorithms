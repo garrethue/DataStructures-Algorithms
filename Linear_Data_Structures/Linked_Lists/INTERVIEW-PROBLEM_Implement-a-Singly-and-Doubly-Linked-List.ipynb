{
 "cells": [
  {
   "cell_type": "code",
   "execution_count": 4,
   "metadata": {},
   "outputs": [],
   "source": [
    "#create node class\n",
    "# Singly linked list\n",
    "class Node:\n",
    "    def __init__(self, value):\n",
    "        self.value = value\n",
    "        self.nextnode = None\n",
    "        \n",
    "class Two_Ref_Node:\n",
    "    def __init__(self, value):\n",
    "        self.value = value\n",
    "        self.nextnode = None\n",
    "        self.previousnode = None\n",
    "\n",
    "class SinglyLinkedList:\n",
    "    \n",
    "    def __init__(self):\n",
    "        self.headnode = None\n",
    "    \n",
    "    def add_node(self, node):\n",
    "        #the old head node becomes the next node\n",
    "        node.nextnode = self.headnode\n",
    "        #change the head node to the new node\n",
    "        self.headnode = node\n",
    "    \n",
    "    def is_empty(self):\n",
    "        return self.headnode is None\n",
    "    \n",
    "class DoublyLinkedList:\n",
    "    \n",
    "    def __init__(self):\n",
    "        self.headnode = None\n",
    "        self.tailnode = None\n",
    "    \n",
    "    def add_node_to_head(self, node):\n",
    "        node.nextnode = self.headnode\n",
    "        self.headnode = node\n",
    "    \n",
    "    def add_node_to_tail(self, node):\n",
    "        if self.tailnode.nextnode:\n",
    "            self.tailnode.nextnode = node\n",
    "        else:\n",
    "            print('you cannot add something to nothing!')\n",
    "            \n",
    "    def is_empty(self):\n",
    "        return self.headnode is None\n",
    "        "
   ]
  },
  {
   "cell_type": "code",
   "execution_count": null,
   "metadata": {},
   "outputs": [],
   "source": []
  }
 ],
 "metadata": {
  "kernelspec": {
   "display_name": "Python 3",
   "language": "python",
   "name": "python3"
  },
  "language_info": {
   "codemirror_mode": {
    "name": "ipython",
    "version": 3
   },
   "file_extension": ".py",
   "mimetype": "text/x-python",
   "name": "python",
   "nbconvert_exporter": "python",
   "pygments_lexer": "ipython3",
   "version": "3.8.5"
  }
 },
 "nbformat": 4,
 "nbformat_minor": 4
}
