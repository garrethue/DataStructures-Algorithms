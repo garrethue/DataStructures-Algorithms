{
 "cells": [
  {
   "cell_type": "code",
   "execution_count": 1,
   "metadata": {},
   "outputs": [],
   "source": [
    "class Node(object):\n",
    "    \n",
    "    def __init__(self,value):\n",
    "        \n",
    "        self.value = value\n",
    "        self.nextnode = None"
   ]
  },
  {
   "cell_type": "code",
   "execution_count": 3,
   "metadata": {},
   "outputs": [],
   "source": [
    "def reverse(head):\n",
    "    '''\n",
    "    garret notes:\n",
    "    chose the pointer method to do in-place work\n",
    "    this has a time complexity of O(n^2) however.. this needs to be optimized.\n",
    "    '''\n",
    "    temp = head\n",
    "    current_node = temp\n",
    "    end = None\n",
    "    \n",
    "    while temp != end:\n",
    "        current_node = temp\n",
    "        \n",
    "        while current_node.nextnode != end: #while the current_node is not next to the end\n",
    "            current_node = current_node.nextnode #traverse\n",
    "        \n",
    "        #once we know the end, swap\n",
    "        temp.value, current_node.value = current_node.value, temp.value\n",
    "        \n",
    "        #move temp and end \n",
    "        temp = temp.nextnode\n",
    "        end = current_node\n",
    "        \n",
    "    #once temp and end are equal, no need to swap\n",
    "    return"
   ]
  },
  {
   "cell_type": "code",
   "execution_count": 4,
   "metadata": {},
   "outputs": [],
   "source": [
    "n1 = Node(20000)\n",
    "n2 = Node(-32)\n",
    "n3 = Node(55)\n",
    "n4 = Node(\"bob\")\n",
    "n5 = Node('gar')\n",
    "n6 = Node('yuh')\n",
    "\n",
    "n1.nextnode = n2\n",
    "n2.nextnode = n3\n",
    "n3.nextnode = n4\n",
    "n4.nextnode = n5\n",
    "n5.nextnode = n6"
   ]
  },
  {
   "cell_type": "code",
   "execution_count": 5,
   "metadata": {},
   "outputs": [
    {
     "name": "stdout",
     "output_type": "stream",
     "text": [
      "yuh gar bob 55 -32 20000\n"
     ]
    }
   ],
   "source": [
    "reverse(n1)\n",
    "print(n1.value, n2.value, n3.value, n4.value, n5.value, n6.value)"
   ]
  },
  {
   "cell_type": "code",
   "execution_count": 18,
   "metadata": {},
   "outputs": [],
   "source": [
    "#optimized solution\n",
    "def reverse(head):\n",
    "    \n",
    "    #initialize\n",
    "    current = head\n",
    "    #previous is always one behind current, so it should be none\n",
    "    previous = None\n",
    "    #nextnode will be our way preserving current.nextnode\n",
    "    nextnode = None\n",
    "    \n",
    "    while current: #while we are not at the end of the list\n",
    "        \n",
    "        #nextnode is the current's next reference\n",
    "        #IF WE DIDN'T CREATE A TEMP VARIABLE TO HOLD THE NEXT NODE,\n",
    "        #THEN, WE WOULD LOSE THE REST OF THE LINKEDLIST\n",
    "        nextnode = current.nextnode\n",
    "        \n",
    "        #change current's next reference to previous node\n",
    "        current.nextnode = previous #THIS IS WHERE REVERSAL HAPPENS\n",
    "        \n",
    "        #previous moved up to current node\n",
    "        previous = current\n",
    "        \n",
    "        #now change current to the next node\n",
    "        current = nextnode\n",
    "    \n",
    "    return previous #previous is the new head of the linked list\n",
    "        "
   ]
  },
  {
   "cell_type": "code",
   "execution_count": 16,
   "metadata": {},
   "outputs": [],
   "source": [
    "n1 = Node(20000)\n",
    "n2 = Node(-32)\n",
    "n3 = Node(55)\n",
    "n4 = Node(\"bob\")\n",
    "n5 = Node('gar')\n",
    "n6 = Node('yes')\n",
    "\n",
    "n1.nextnode = n2\n",
    "n2.nextnode = n3\n",
    "n3.nextnode = n4\n",
    "n4.nextnode = n5\n",
    "n5.nextnode = n6"
   ]
  },
  {
   "cell_type": "code",
   "execution_count": 11,
   "metadata": {},
   "outputs": [
    {
     "name": "stdout",
     "output_type": "stream",
     "text": [
      "None 20000 -32 55 bob gar yuh\n"
     ]
    }
   ],
   "source": [
    "new_head = reverse(n1)\n",
    "print(n1.nextnode, n2.nextnode.value, n3.nextnode.value, n4.nextnode.value, n5.nextnode.value, n6.nextnode.value, n6.value)"
   ]
  },
  {
   "cell_type": "code",
   "execution_count": 17,
   "metadata": {},
   "outputs": [
    {
     "name": "stdout",
     "output_type": "stream",
     "text": [
      "yuh gar bob 55\n"
     ]
    }
   ],
   "source": [
    "print(new_head.value, new_head.nextnode.value, new_head.nextnode.nextnode.value, new_head.nextnode.nextnode.nextnode.value)"
   ]
  },
  {
   "cell_type": "code",
   "execution_count": null,
   "metadata": {},
   "outputs": [],
   "source": []
  }
 ],
 "metadata": {
  "kernelspec": {
   "display_name": "Python 3",
   "language": "python",
   "name": "python3"
  },
  "language_info": {
   "codemirror_mode": {
    "name": "ipython",
    "version": 3
   },
   "file_extension": ".py",
   "mimetype": "text/x-python",
   "name": "python",
   "nbconvert_exporter": "python",
   "pygments_lexer": "ipython3",
   "version": "3.8.5"
  }
 },
 "nbformat": 4,
 "nbformat_minor": 4
}
