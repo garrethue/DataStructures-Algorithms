{
 "metadata": {
  "language_info": {
   "codemirror_mode": {
    "name": "ipython",
    "version": 3
   },
   "file_extension": ".py",
   "mimetype": "text/x-python",
   "name": "python",
   "nbconvert_exporter": "python",
   "pygments_lexer": "ipython3",
   "version": "3.8.2-final"
  },
  "orig_nbformat": 2,
  "kernelspec": {
   "name": "python3",
   "display_name": "Python 3.8.2 64-bit",
   "metadata": {
    "interpreter": {
     "hash": "5edc29c2ed010d6458d71a83433b383a96a8cbd3efe8531bc90c4b8a5b8bcec9"
    }
   }
  }
 },
 "nbformat": 4,
 "nbformat_minor": 2,
 "cells": [
  {
   "cell_type": "code",
   "execution_count": 20,
   "metadata": {},
   "outputs": [
    {
     "output_type": "stream",
     "name": "stdout",
     "text": [
      "rightmost before while 2\niteration\n3 2\nin swap\nbefore 3 2\nafter 2 3\n[2, 3, 1]\niteration\n3 1\nin swap\nbefore 3 1\nafter 1 3\n[2, 1, 3]\nrightmostindex 1\niteration\n2 1\nin swap\nbefore 2 1\nafter 1 2\n[1, 2, 3]\nrightmostindex 0\nrightmostindex -1\n[1, 2, 3]\n"
     ]
    }
   ],
   "source": [
    "def bubbleSort(arr):\n",
    "    rightmost_unsorted_index = len(arr)-1 #the index of the rightmost element that has not yet been sorted\n",
    "    sorted = False\n",
    "    print('rightmost before while', rightmost_unsorted_index)\n",
    "\n",
    "    while not sorted:\n",
    "        sorted = True #assume the array has been sorted\n",
    "        for i in range(rightmost_unsorted_index): #compare up to the last, rightmost unsorted value\n",
    "            if arr[i] > arr[i+1]:\n",
    "                arr[i], arr[i+1] = arr[i+1], arr[i] #swap\n",
    "                sorted = False #array still is not sorted\n",
    "        rightmost_unsorted_index -= 1 #decrement outside of for!!\n",
    "    \n",
    "    return arr\n",
    "\n",
    "#print('ehll')\n",
    "print(bubbleSort([3,2,1]))"
   ]
  },
  {
   "cell_type": "code",
   "execution_count": null,
   "metadata": {},
   "outputs": [],
   "source": []
  }
 ]
}