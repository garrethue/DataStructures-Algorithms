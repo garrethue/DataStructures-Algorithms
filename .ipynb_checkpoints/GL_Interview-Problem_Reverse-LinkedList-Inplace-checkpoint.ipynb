{
 "cells": [
  {
   "cell_type": "code",
   "execution_count": 23,
   "metadata": {},
   "outputs": [],
   "source": [
    "class Node(object):\n",
    "    \n",
    "    def __init__(self,value):\n",
    "        \n",
    "        self.value = value\n",
    "        self.nextnode = None"
   ]
  },
  {
   "cell_type": "code",
   "execution_count": 30,
   "metadata": {},
   "outputs": [],
   "source": [
    "def reverse(head):\n",
    "    '''\n",
    "    garret notes:\n",
    "    chose the pointer method to do in-place work\n",
    "    this has a time complexity of O(n^2) however.. this needs to be optimized.\n",
    "    '''\n",
    "    temp = head\n",
    "    current_node = temp\n",
    "    end = None\n",
    "    \n",
    "    while temp != end:\n",
    "        current_node = temp\n",
    "        \n",
    "        while current_node.nextnode != end: #while the current_node is not next to the end\n",
    "            current_node = current_node.nextnode #traverse\n",
    "        \n",
    "        #once we know the end, swap\n",
    "        temp.value, current_node.value = current_node.value, temp.value\n",
    "        \n",
    "        #move temp and end \n",
    "        temp = temp.nextnode\n",
    "        end = current_node\n",
    "        \n",
    "    #once temp and end are equal, no need to swap\n",
    "    return"
   ]
  },
  {
   "cell_type": "code",
   "execution_count": 37,
   "metadata": {},
   "outputs": [],
   "source": [
    "n1 = Node(20000)\n",
    "n2 = Node(-32)\n",
    "n3 = Node(55)\n",
    "n4 = Node(\"bob\")\n",
    "n5 = Node('gar')\n",
    "n6 = Node('yuh')\n",
    "\n",
    "n1.nextnode = n2\n",
    "n2.nextnode = n3\n",
    "n3.nextnode = n4\n",
    "n4.nextnode = n5\n",
    "n5.nextnode = n6"
   ]
  },
  {
   "cell_type": "code",
   "execution_count": 38,
   "metadata": {},
   "outputs": [
    {
     "name": "stdout",
     "output_type": "stream",
     "text": [
      "yuh gar bob 55 -32 20000\n"
     ]
    }
   ],
   "source": [
    "reverse(n1)\n",
    "print(n1.value, n2.value, n3.value, n4.value, n5.value, n6.value)"
   ]
  },
  {
   "cell_type": "code",
   "execution_count": null,
   "metadata": {},
   "outputs": [],
   "source": [
    "#Garret: Now look at Jose's Solution. I'm sure it runs in O(n) time."
   ]
  }
 ],
 "metadata": {
  "kernelspec": {
   "display_name": "Python 3",
   "language": "python",
   "name": "python3"
  },
  "language_info": {
   "codemirror_mode": {
    "name": "ipython",
    "version": 3
   },
   "file_extension": ".py",
   "mimetype": "text/x-python",
   "name": "python",
   "nbconvert_exporter": "python",
   "pygments_lexer": "ipython3",
   "version": "3.8.5"
  }
 },
 "nbformat": 4,
 "nbformat_minor": 4
}
