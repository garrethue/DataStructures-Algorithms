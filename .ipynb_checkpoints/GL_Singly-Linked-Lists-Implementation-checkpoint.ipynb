{
 "cells": [
  {
   "cell_type": "code",
   "execution_count": 34,
   "metadata": {},
   "outputs": [],
   "source": [
    "class Node:\n",
    "    \n",
    "    def __init__(self, value):\n",
    "        self.value = value\n",
    "        self.nextnode = None\n",
    "        \n",
    "    def get_data(self):\n",
    "        return self.value\n",
    "    \n",
    "    def set_data(self, new_val):\n",
    "        self.value = new_val\n",
    "        \n",
    "    data = property(get_data, set_data)\n",
    "    \n",
    "    def get_next(self):\n",
    "        return self.nextnode\n",
    "    def set_next(self, newnode):\n",
    "        self.nextnode = newnode\n",
    "    next = property(get_next, set_next)\n",
    "    \n",
    "    def __str__(self):\n",
    "        \"\"\"string\"\"\"\n",
    "        return str(self.value)"
   ]
  },
  {
   "cell_type": "code",
   "execution_count": 28,
   "metadata": {},
   "outputs": [
    {
     "data": {
      "text/plain": [
       "1"
      ]
     },
     "execution_count": 28,
     "metadata": {},
     "output_type": "execute_result"
    }
   ],
   "source": [
    "n1 = Node(1)\n",
    "n2 = Node(4)\n",
    "n3 = Node('betch')\n",
    "\n",
    "n1.get_data()"
   ]
  },
  {
   "cell_type": "code",
   "execution_count": 29,
   "metadata": {},
   "outputs": [],
   "source": [
    "n1.nextnode = n2\n",
    "n2.nextnode = n3\n",
    "\n",
    "# N1 -> N2 -> N3"
   ]
  },
  {
   "cell_type": "code",
   "execution_count": 31,
   "metadata": {},
   "outputs": [
    {
     "data": {
      "text/plain": [
       "1"
      ]
     },
     "execution_count": 31,
     "metadata": {},
     "output_type": "execute_result"
    }
   ],
   "source": [
    "n1.get_data()"
   ]
  },
  {
   "cell_type": "code",
   "execution_count": 32,
   "metadata": {},
   "outputs": [
    {
     "data": {
      "text/plain": [
       "'garret'"
      ]
     },
     "execution_count": 32,
     "metadata": {},
     "output_type": "execute_result"
    }
   ],
   "source": [
    "n1.set_data('garret')\n",
    "n1.get_data()"
   ]
  },
  {
   "cell_type": "markdown",
   "metadata": {},
   "source": [
    "# create Unordered List Class from PythonDS book"
   ]
  },
  {
   "cell_type": "code",
   "execution_count": 54,
   "metadata": {},
   "outputs": [],
   "source": [
    "class UnorderedList:\n",
    "    def __init__(self):\n",
    "        self.head = None\n",
    "        \n",
    "    #check if the LinkedList is empty\n",
    "    def is_empty(self):\n",
    "        return self.head == None #if the self.head is not referencing anything, obvi we don't have anything\n",
    "    \n",
    "    def add_node_to_end(self, new_node): #add \n",
    "        #O(n) time\n",
    "        #if head hasn't been set yet\n",
    "        if self.head is None:\n",
    "            self.head = new_node\n",
    "            return\n",
    "        \n",
    "        current_node = self.head #start at the head\n",
    "        \n",
    "        #traverse the list\n",
    "        while current_node.nextnode is not None:\n",
    "            current_node = current_node.nextnode\n",
    "        #once current_node.next is None, then we KNOW we are at the end of the list\n",
    "        current_node.nextnode = new_node #add the new_node\n",
    "    \n",
    "    def add_node_to_beginning(self, item):\n",
    "        temp = Node(item) #create the Node\n",
    "        temp.set_next(self.head) #set the temp's ref to the self.head\n",
    "        self.head = temp #make temp the new head\n",
    "        \n",
    "    def size(self):\n",
    "        #initialize counter\n",
    "        count = 0\n",
    "        #initialize current_node to the head node\n",
    "        current_node = self.head\n",
    "        \n",
    "        while current_node is not None:\n",
    "            count += 1\n",
    "            current_node = current_node.nextnode\n",
    "        \n",
    "        return count\n",
    "    \n",
    "    def search(self, item): #is item in the list?\n",
    "        current_node = self.head\n",
    "        while current_node is not None:\n",
    "            if current_node.value == item:\n",
    "                return True #yes\n",
    "            current_node = current_node.next\n",
    "        return False #nope!\n",
    "    \n",
    "    def remove(self, item):\n",
    "        current_node = self.head\n",
    "        previous_node = None #previous is always one behind the current, @ the start it should be nothing bc nothing is before the head\n",
    "        \n",
    "        while current_node is not None:\n",
    "            if item == current_node.value: #is item we looking for the same as the current_node's value?\n",
    "                break\n",
    "            previous_node = current_node #move the previous node ref\n",
    "            current_node = current_node.next #move current node ref\n",
    "        \n",
    "        if current_node is None:\n",
    "            raise ValueError(\"{} is not in the list\".format(item))\n",
    "        if previous is None: #the item is at the head!\n",
    "            self.head = current_node.next\n",
    "        else:\n",
    "            previous.next = current_node.next #remove the current node"
   ]
  },
  {
   "cell_type": "code",
   "execution_count": 55,
   "metadata": {},
   "outputs": [],
   "source": [
    "my_list = UnorderedList()"
   ]
  },
  {
   "cell_type": "code",
   "execution_count": 56,
   "metadata": {},
   "outputs": [],
   "source": [
    "my_list.add_node_to_end(n1)"
   ]
  },
  {
   "cell_type": "code",
   "execution_count": 57,
   "metadata": {},
   "outputs": [
    {
     "data": {
      "text/plain": [
       "'garret'"
      ]
     },
     "execution_count": 57,
     "metadata": {},
     "output_type": "execute_result"
    }
   ],
   "source": [
    "my_list.head.value"
   ]
  },
  {
   "cell_type": "code",
   "execution_count": null,
   "metadata": {},
   "outputs": [],
   "source": []
  }
 ],
 "metadata": {
  "kernelspec": {
   "display_name": "Python 3",
   "language": "python",
   "name": "python3"
  },
  "language_info": {
   "codemirror_mode": {
    "name": "ipython",
    "version": 3
   },
   "file_extension": ".py",
   "mimetype": "text/x-python",
   "name": "python",
   "nbconvert_exporter": "python",
   "pygments_lexer": "ipython3",
   "version": "3.8.5"
  }
 },
 "nbformat": 4,
 "nbformat_minor": 4
}
